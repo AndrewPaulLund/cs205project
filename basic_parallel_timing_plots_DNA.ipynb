{
 "cells": [
  {
   "cell_type": "markdown",
   "metadata": {},
   "source": [
    "# Basic Parallelization DNA Sample Plots"
   ]
  },
  {
   "cell_type": "code",
   "execution_count": 33,
   "metadata": {
    "collapsed": true
   },
   "outputs": [],
   "source": [
    "%matplotlib inline\n",
    "import pandas as pd\n",
    "import matplotlib.pyplot as plt\n",
    "import seaborn as sns\n",
    "import tmdbsimple as tmdb\n",
    "import pandas as pd\n",
    "import numpy as np\n",
    "from ast import literal_eval\n",
    "from collections import Counter\n",
    "import scipy\n",
    "sns.set_context('talk')\n",
    "sns.set_style('ticks')\n",
    "import warnings\n",
    "warnings.filterwarnings(\"ignore\")"
   ]
  },
  {
   "cell_type": "code",
   "execution_count": 34,
   "metadata": {
    "collapsed": true
   },
   "outputs": [],
   "source": [
    "#time collections\n",
    "#1 core total times\n",
    "d1_totals_1c = []\n",
    "d2_totals_1c = []\n",
    "bin_sizes = [10000, 100000, 1000000, 10000000, 100000000, 1000000000]\n",
    "d2_bin_sizes = [100000, 1000000, 10000000, 100000000, 1000000000]\n",
    "\n",
    "#collect 1M bin size run times\n",
    "d1_totals_1m = []\n",
    "d2_totals_1m = []\n",
    "cores_1m = [1, 2, 4, 8, 16, 20]"
   ]
  },
  {
   "cell_type": "markdown",
   "metadata": {},
   "source": [
    "# DNA Sample 1"
   ]
  },
  {
   "cell_type": "code",
   "execution_count": 35,
   "metadata": {},
   "outputs": [
    {
     "name": "stdout",
     "output_type": "stream",
     "text": [
      "Bin size: 100000, Cores: 1\n",
      "Total Time (hours): 17.336597472363056\n",
      "\n",
      "Metrics (seconds):\n",
      "count    24926.000000\n",
      "mean         2.124021\n",
      "std          1.271326\n",
      "min          0.318347\n",
      "25%          1.805215\n",
      "50%          1.893843\n",
      "75%          2.403581\n",
      "max         88.781436\n",
      "Name: bin_time, dtype: float64\n",
      "Coeff of variation 0.5985346917936272\n"
     ]
    }
   ],
   "source": [
    "#Bin size 10k, 1 core\n",
    "t10k1c = pd.read_csv('data/basic_parallel_timings/DNA/DNA.10000bin.cores1.runtime.txt', \n",
    "                    sep='\\t', header=None, names=['Chromosome & Range', 'start_position', 'bin_time'])\n",
    "\n",
    "#grab total time for run\n",
    "t10k1c_total = t10k1c.iloc[[-1]].bin_time.values[0]\n",
    "d1_totals_1c.append(t10k1c_total)\n",
    "#drop last two rows, which are run times\n",
    "t10k1c.drop(t10k1c.tail(2).index,inplace=True)\n",
    "#simple metrics\n",
    "print('Bin size: 100000, Cores: 1')\n",
    "print('Total Time (hours):', t10k1c_total/60/60)\n",
    "print('\\nMetrics (seconds):')\n",
    "print(t10k1c.bin_time.describe())\n",
    "print('Coeff of variation', scipy.stats.variation(t10k1c.bin_time))"
   ]
  },
  {
   "cell_type": "code",
   "execution_count": 36,
   "metadata": {},
   "outputs": [
    {
     "data": {
      "text/plain": [
       "(88.78143620491029, 11194)"
      ]
     },
     "execution_count": 36,
     "metadata": {},
     "output_type": "execute_result"
    }
   ],
   "source": [
    "#value and index of max bin time interval\n",
    "t10k1c.bin_time.max(), np.argmax(t10k1c.bin_time)"
   ]
  },
  {
   "cell_type": "code",
   "execution_count": 37,
   "metadata": {},
   "outputs": [
    {
     "name": "stdout",
     "output_type": "stream",
     "text": [
      "Bin size: 1000000, Cores: 1\n",
      "Total Time (hours): 1.7884228760666308\n",
      "\n",
      "Metrics (seconds):\n",
      "count    2493.000000\n",
      "mean        2.041197\n",
      "std         0.739367\n",
      "min         0.289840\n",
      "25%         1.946275\n",
      "50%         2.030528\n",
      "75%         2.194647\n",
      "max        11.140260\n",
      "Name: bin_time, dtype: float64\n",
      "Coeff of variation 0.3621497973266269\n"
     ]
    }
   ],
   "source": [
    "#Bin size 100k, 1 core\n",
    "t100k1c = pd.read_csv('data/basic_parallel_timings/DNA/DNA.100000bin.cores1.runtime.txt', \n",
    "                    sep='\\t', header=None, names=['Chromosome & Range', 'start_position', 'bin_time'])\n",
    "\n",
    "#grab total time for run\n",
    "t100k1c_total = t100k1c.iloc[[-1]].bin_time.values[0]\n",
    "d1_totals_1c.append(t100k1c_total)\n",
    "#drop last two rows, which are run times\n",
    "t100k1c.drop(t100k1c.tail(2).index,inplace=True)\n",
    "#simple metrics\n",
    "print('Bin size: 1000000, Cores: 1')\n",
    "print('Total Time (hours):', t100k1c_total/60/60)\n",
    "print('\\nMetrics (seconds):')\n",
    "print(t100k1c.bin_time.describe())\n",
    "print('Coeff of variation', scipy.stats.variation(t100k1c.bin_time))"
   ]
  },
  {
   "cell_type": "code",
   "execution_count": 38,
   "metadata": {},
   "outputs": [
    {
     "name": "stdout",
     "output_type": "stream",
     "text": [
      "Bin size: 1M, Cores: 1\n",
      "Total Time (hours): 0.2997281845410667\n",
      "\n",
      "Metrics (seconds):\n",
      "count    250.000000\n",
      "mean       3.794946\n",
      "std        1.880434\n",
      "min        0.365276\n",
      "25%        2.944352\n",
      "50%        3.584858\n",
      "75%        4.362392\n",
      "max       13.986383\n",
      "Name: bin_time, dtype: float64\n",
      "Coeff of variation 0.4945179799265091\n"
     ]
    }
   ],
   "source": [
    "#Bin size 1M, 1 core\n",
    "t1m1c = pd.read_csv('data/basic_parallel_timings/DNA/DNA.1000000bin.cores1.runtime.txt', \n",
    "                    sep='\\t', header=None, names=['Chromosome & Range', 'start_position', 'bin_time'])\n",
    "\n",
    "#grab total time for run\n",
    "t1m1c_total = t1m1c.iloc[[-1]].bin_time.values[0]\n",
    "d1_totals_1m.append(t1m1c_total)\n",
    "d1_totals_1c.append(t1m1c_total)\n",
    "#drop last two rows, which are run times\n",
    "t1m1c.drop(t1m1c.tail(2).index,inplace=True)\n",
    "#simple metrics\n",
    "print('Bin size: 1M, Cores: 1')\n",
    "print('Total Time (hours):', t1m1c_total/60/60)\n",
    "print('\\nMetrics (seconds):')\n",
    "print(t1m1c.bin_time.describe())\n",
    "print('Coeff of variation', scipy.stats.variation(t1m1c.bin_time))"
   ]
  },
  {
   "cell_type": "code",
   "execution_count": 39,
   "metadata": {},
   "outputs": [
    {
     "name": "stdout",
     "output_type": "stream",
     "text": [
      "Bin size: 1M, Cores: 2\n",
      "Total Time (hours): 0.17187269594934249\n",
      "\n",
      "Metrics (seconds):\n",
      "count    250.000000\n",
      "mean       4.404824\n",
      "std        1.876795\n",
      "min        0.384391\n",
      "25%        3.527175\n",
      "50%        4.308980\n",
      "75%        5.132249\n",
      "max       13.660452\n",
      "Name: bin_time, dtype: float64\n",
      "Coeff of variation 0.42522425486418225\n"
     ]
    }
   ],
   "source": [
    "#Bin size 1M, 2 core\n",
    "t1m2c = pd.read_csv('data/basic_parallel_timings/DNA/DNA.1000000bin.cores2.runtime.txt', \n",
    "                    sep='\\t', header=None, names=['Chromosome & Range', 'start_position', 'bin_time'])\n",
    "\n",
    "#grab total time for run\n",
    "t1m2c_total = t1m2c.iloc[[-1]].bin_time.values[0]\n",
    "d1_totals_1m.append(t1m2c_total)\n",
    "#drop last two rows, which are run times\n",
    "t1m2c.drop(t1m2c.tail(2).index,inplace=True)\n",
    "#simple metrics\n",
    "print('Bin size: 1M, Cores: 2')\n",
    "print('Total Time (hours):', t1m2c_total/60/60)\n",
    "print('\\nMetrics (seconds):')\n",
    "print(t1m2c.bin_time.describe())\n",
    "print('Coeff of variation', scipy.stats.variation(t1m2c.bin_time))"
   ]
  },
  {
   "cell_type": "code",
   "execution_count": 40,
   "metadata": {},
   "outputs": [
    {
     "name": "stdout",
     "output_type": "stream",
     "text": [
      "Bin size: 1M, Cores: 4\n",
      "Total Time (hours): 0.07502528442276861\n",
      "\n",
      "Metrics (seconds):\n",
      "count    250.000000\n",
      "mean       3.736879\n",
      "std        1.642756\n",
      "min        0.363381\n",
      "25%        2.993476\n",
      "50%        3.621155\n",
      "75%        4.448800\n",
      "max       12.501389\n",
      "Name: bin_time, dtype: float64\n",
      "Coeff of variation 0.43872635812676575\n"
     ]
    }
   ],
   "source": [
    "#Bin size 1M, 4 core\n",
    "t1m4c = pd.read_csv('data/basic_parallel_timings/DNA/DNA.1000000bin.cores4.runtime.txt', \n",
    "                    sep='\\t', header=None, names=['Chromosome & Range', 'start_position', 'bin_time'])\n",
    "\n",
    "#grab total time for run\n",
    "t1m4c_total = t1m4c.iloc[[-1]].bin_time.values[0]\n",
    "d1_totals_1m.append(t1m4c_total)\n",
    "#drop last two rows, which are run times\n",
    "t1m4c.drop(t1m4c.tail(2).index,inplace=True)\n",
    "#simple metrics\n",
    "print('Bin size: 1M, Cores: 4')\n",
    "print('Total Time (hours):', t1m4c_total/60/60)\n",
    "print('\\nMetrics (seconds):')\n",
    "print(t1m4c.bin_time.describe())\n",
    "print('Coeff of variation', scipy.stats.variation(t1m4c.bin_time))"
   ]
  },
  {
   "cell_type": "code",
   "execution_count": 41,
   "metadata": {},
   "outputs": [
    {
     "name": "stdout",
     "output_type": "stream",
     "text": [
      "Bin size: 1M, Cores: 8\n",
      "Total Time (hours): 0.0401987338728375\n",
      "\n",
      "Metrics (seconds):\n",
      "count    250.000000\n",
      "mean       3.968843\n",
      "std        1.770699\n",
      "min        0.327456\n",
      "25%        3.209023\n",
      "50%        3.820687\n",
      "75%        4.764226\n",
      "max       13.064627\n",
      "Name: bin_time, dtype: float64\n",
      "Coeff of variation 0.44525669406216456\n"
     ]
    }
   ],
   "source": [
    "#Bin size 1M, 8 core\n",
    "t1m8c = pd.read_csv('data/basic_parallel_timings/DNA/DNA.1000000bin.cores8.runtime.txt', \n",
    "                    sep='\\t', header=None, names=['Chromosome & Range', 'start_position', 'bin_time'])\n",
    "\n",
    "#grab total time for run\n",
    "t1m8c_total = t1m8c.iloc[[-1]].bin_time.values[0]\n",
    "d1_totals_1m.append(t1m8c_total)\n",
    "#drop last two rows, which are run times\n",
    "t1m8c.drop(t1m8c.tail(2).index,inplace=True)\n",
    "#simple metrics\n",
    "print('Bin size: 1M, Cores: 8')\n",
    "print('Total Time (hours):', t1m8c_total/60/60)\n",
    "print('\\nMetrics (seconds):')\n",
    "print(t1m8c.bin_time.describe())\n",
    "print('Coeff of variation', scipy.stats.variation(t1m8c.bin_time))"
   ]
  },
  {
   "cell_type": "code",
   "execution_count": 42,
   "metadata": {},
   "outputs": [
    {
     "name": "stdout",
     "output_type": "stream",
     "text": [
      "Bin size: 1M, Cores: 16\n",
      "Total Time (hours): 0.02080370816919539\n",
      "\n",
      "Metrics (seconds):\n",
      "count    250.000000\n",
      "mean       3.980357\n",
      "std        1.746742\n",
      "min        0.341954\n",
      "25%        3.216886\n",
      "50%        3.817793\n",
      "75%        4.874962\n",
      "max       13.243645\n",
      "Name: bin_time, dtype: float64\n",
      "Coeff of variation 0.43796206485012446\n"
     ]
    }
   ],
   "source": [
    "#Bin size 1M, 16 core\n",
    "t1m16c = pd.read_csv('data/basic_parallel_timings/DNA/DNA.1000000bin.cores16.runtime.txt', \n",
    "                    sep='\\t', header=None, names=['Chromosome & Range', 'start_position', 'bin_time'])\n",
    "\n",
    "#grab total time for run\n",
    "t1m16c_total = t1m16c.iloc[[-1]].bin_time.values[0]\n",
    "d1_totals_1m.append(t1m16c_total)\n",
    "#drop last two rows, which are run times\n",
    "t1m16c.drop(t1m16c.tail(2).index,inplace=True)\n",
    "#simple metrics\n",
    "print('Bin size: 1M, Cores: 16')\n",
    "print('Total Time (hours):', t1m16c_total/60/60)\n",
    "print('\\nMetrics (seconds):')\n",
    "print(t1m16c.bin_time.describe())\n",
    "print('Coeff of variation', scipy.stats.variation(t1m16c.bin_time))"
   ]
  },
  {
   "cell_type": "code",
   "execution_count": 43,
   "metadata": {},
   "outputs": [
    {
     "name": "stdout",
     "output_type": "stream",
     "text": [
      "Bin size: 1M, Cores: 20\n",
      "Total Time (hours): 0.017831149432394253\n",
      "\n",
      "Metrics (seconds):\n",
      "count    250.000000\n",
      "mean       4.239568\n",
      "std        1.935367\n",
      "min        0.358304\n",
      "25%        3.311384\n",
      "50%        4.148354\n",
      "75%        5.013684\n",
      "max       13.030503\n",
      "Name: bin_time, dtype: float64\n",
      "Coeff of variation 0.45558711635140386\n"
     ]
    }
   ],
   "source": [
    "#Bin size 1M, 20 core\n",
    "t1m20c = pd.read_csv('data/basic_parallel_timings/DNA/DNA.1000000bin.cores20.runtime.txt', \n",
    "                    sep='\\t', header=None, names=['Chromosome & Range', 'start_position', 'bin_time'])\n",
    "\n",
    "#grab total time for run\n",
    "t1m20c_total = t1m20c.iloc[[-1]].bin_time.values[0]\n",
    "d1_totals_1m.append(t1m20c_total)\n",
    "#drop last two rows, which are run times\n",
    "t1m20c.drop(t1m20c.tail(2).index,inplace=True)\n",
    "#simple metrics\n",
    "print('Bin size: 1M, Cores: 20')\n",
    "print('Total Time (hours):', t1m20c_total/60/60)\n",
    "print('\\nMetrics (seconds):')\n",
    "print(t1m20c.bin_time.describe())\n",
    "print('Coeff of variation', scipy.stats.variation(t1m20c.bin_time))"
   ]
  },
  {
   "cell_type": "code",
   "execution_count": 44,
   "metadata": {},
   "outputs": [
    {
     "name": "stdout",
     "output_type": "stream",
     "text": [
      "Bin size: 10M, Cores: 1\n",
      "Total Time (hours): 0.1454639552036922\n",
      "\n",
      "Metrics (seconds):\n",
      "count    25.000000\n",
      "mean     20.339517\n",
      "std       9.336811\n",
      "min       0.343936\n",
      "25%      15.966598\n",
      "50%      18.361459\n",
      "75%      24.319761\n",
      "max      44.222074\n",
      "Name: bin_time, dtype: float64\n",
      "Coeff of variation 0.4497731772329787\n"
     ]
    }
   ],
   "source": [
    "#Bin size 10M, 1 core\n",
    "t10m1c = pd.read_csv('data/basic_parallel_timings/DNA/DNA.10000000bin.cores1.runtime.txt', \n",
    "                    sep='\\t', header=None, names=['Chromosome & Range', 'start_position', 'bin_time'])\n",
    "\n",
    "#grab total time for run\n",
    "t10m1c_total = t10m1c.iloc[[-1]].bin_time.values[0]\n",
    "d1_totals_1c.append(t10m1c_total)\n",
    "#drop last two rows, which are run times\n",
    "t10m1c.drop(t10m1c.tail(2).index,inplace=True)\n",
    "#simple metrics\n",
    "print('Bin size: 10M, Cores: 1')\n",
    "print('Total Time (hours):', t10m1c_total/60/60)\n",
    "print('\\nMetrics (seconds):')\n",
    "print(t10m1c.bin_time.describe())\n",
    "print('Coeff of variation', scipy.stats.variation(t10m1c.bin_time))"
   ]
  },
  {
   "cell_type": "code",
   "execution_count": 45,
   "metadata": {},
   "outputs": [
    {
     "name": "stdout",
     "output_type": "stream",
     "text": [
      "Bin size: 100M, Cores: 1\n",
      "Total Time (hours): 0.1258151196108925\n",
      "\n",
      "Metrics (seconds):\n",
      "count      3.000000\n",
      "mean     150.313449\n",
      "std       54.250483\n",
      "min       87.764245\n",
      "25%      133.191839\n",
      "50%      178.619433\n",
      "75%      181.588051\n",
      "max      184.556669\n",
      "Name: bin_time, dtype: float64\n",
      "Coeff of variation 0.29468643180911924\n"
     ]
    }
   ],
   "source": [
    "#Bin size 100M, 1 core\n",
    "t100m1c = pd.read_csv('data/basic_parallel_timings/DNA/DNA.100000000bin.cores1.runtime.txt', \n",
    "                    sep='\\t', header=None, names=['Chromosome & Range', 'start_position', 'bin_time'])\n",
    "\n",
    "#grab total time for run\n",
    "t100m1c_total = t100m1c.iloc[[-1]].bin_time.values[0]\n",
    "d1_totals_1c.append(t100m1c_total)\n",
    "#drop last two rows, which are run times\n",
    "t100m1c.drop(t100m1c.tail(2).index,inplace=True)\n",
    "#simple metrics\n",
    "print('Bin size: 100M, Cores: 1')\n",
    "print('Total Time (hours):', t100m1c_total/60/60)\n",
    "print('\\nMetrics (seconds):')\n",
    "print(t100m1c.bin_time.describe())\n",
    "print('Coeff of variation', scipy.stats.variation(t100m1c.bin_time))"
   ]
  },
  {
   "cell_type": "code",
   "execution_count": 46,
   "metadata": {},
   "outputs": [
    {
     "name": "stdout",
     "output_type": "stream",
     "text": [
      "Bin size: 1B, Cores: 1\n",
      "Total Time (hours): 0.14612035267882892\n",
      "\n",
      "Metrics (seconds):\n",
      "count      1.000000\n",
      "mean     525.464123\n",
      "std             NaN\n",
      "min      525.464123\n",
      "25%      525.464123\n",
      "50%      525.464123\n",
      "75%      525.464123\n",
      "max      525.464123\n",
      "Name: bin_time, dtype: float64\n",
      "Coeff of variation 0.0\n"
     ]
    }
   ],
   "source": [
    "#Bin size 1B, 1 core\n",
    "t1b1c = pd.read_csv('data/basic_parallel_timings/DNA/DNA.1000000000bin.cores1.runtime.txt', \n",
    "                    sep='\\t', header=None, names=['Chromosome & Range', 'start_position', 'bin_time'])\n",
    "\n",
    "#grab total time for run\n",
    "t1b1c_total = t1b1c.iloc[[-1]].bin_time.values[0]\n",
    "d1_totals_1c.append(t1b1c_total)\n",
    "#drop last two rows, which are run times\n",
    "t1b1c.drop(t1b1c.tail(2).index,inplace=True)\n",
    "#simple metrics\n",
    "print('Bin size: 1B, Cores: 1')\n",
    "print('Total Time (hours):', t1b1c_total/60/60)\n",
    "print('\\nMetrics (seconds):')\n",
    "print(t1b1c.bin_time.describe())\n",
    "print('Coeff of variation', scipy.stats.variation(t1b1c.bin_time))"
   ]
  },
  {
   "cell_type": "code",
   "execution_count": 49,
   "metadata": {},
   "outputs": [
    {
     "data": {
      "text/html": [
       "<div>\n",
       "<style scoped>\n",
       "    .dataframe tbody tr th:only-of-type {\n",
       "        vertical-align: middle;\n",
       "    }\n",
       "\n",
       "    .dataframe tbody tr th {\n",
       "        vertical-align: top;\n",
       "    }\n",
       "\n",
       "    .dataframe thead th {\n",
       "        text-align: right;\n",
       "    }\n",
       "</style>\n",
       "<table border=\"1\" class=\"dataframe\">\n",
       "  <thead>\n",
       "    <tr style=\"text-align: right;\">\n",
       "      <th></th>\n",
       "      <th>10000</th>\n",
       "      <th>100000</th>\n",
       "      <th>1000000</th>\n",
       "      <th>10000000</th>\n",
       "      <th>100000000</th>\n",
       "      <th>1000000000</th>\n",
       "    </tr>\n",
       "  </thead>\n",
       "  <tbody>\n",
       "    <tr>\n",
       "      <th>0</th>\n",
       "      <td>1.029438</td>\n",
       "      <td>2.530859</td>\n",
       "      <td>3.916871</td>\n",
       "      <td>19.189404</td>\n",
       "      <td>184.556669</td>\n",
       "      <td>525.464123</td>\n",
       "    </tr>\n",
       "    <tr>\n",
       "      <th>1</th>\n",
       "      <td>9.278319</td>\n",
       "      <td>1.952498</td>\n",
       "      <td>4.298775</td>\n",
       "      <td>32.354807</td>\n",
       "      <td>178.619433</td>\n",
       "      <td>NaN</td>\n",
       "    </tr>\n",
       "    <tr>\n",
       "      <th>2</th>\n",
       "      <td>2.137897</td>\n",
       "      <td>1.931003</td>\n",
       "      <td>3.531452</td>\n",
       "      <td>25.143378</td>\n",
       "      <td>87.764245</td>\n",
       "      <td>NaN</td>\n",
       "    </tr>\n",
       "    <tr>\n",
       "      <th>3</th>\n",
       "      <td>2.640770</td>\n",
       "      <td>2.076280</td>\n",
       "      <td>3.676994</td>\n",
       "      <td>24.319761</td>\n",
       "      <td>NaN</td>\n",
       "      <td>NaN</td>\n",
       "    </tr>\n",
       "    <tr>\n",
       "      <th>4</th>\n",
       "      <td>2.543097</td>\n",
       "      <td>1.925354</td>\n",
       "      <td>2.926028</td>\n",
       "      <td>25.031033</td>\n",
       "      <td>NaN</td>\n",
       "      <td>NaN</td>\n",
       "    </tr>\n",
       "  </tbody>\n",
       "</table>\n",
       "</div>"
      ],
      "text/plain": [
       "      10000    100000   1000000   10000000   100000000  1000000000\n",
       "0  1.029438  2.530859  3.916871  19.189404  184.556669  525.464123\n",
       "1  9.278319  1.952498  4.298775  32.354807  178.619433         NaN\n",
       "2  2.137897  1.931003  3.531452  25.143378   87.764245         NaN\n",
       "3  2.640770  2.076280  3.676994  24.319761         NaN         NaN\n",
       "4  2.543097  1.925354  2.926028  25.031033         NaN         NaN"
      ]
     },
     "execution_count": 49,
     "metadata": {},
     "output_type": "execute_result"
    }
   ],
   "source": [
    "#side-by-side boxplots of bin time\n",
    "df1c = pd.DataFrame(\n",
    "    {'10000': t10k1c.bin_time,\n",
    "     '100000': t100k1c.bin_time,\n",
    "     '1000000': t1m1c.bin_time,\n",
    "     '10000000': t10m1c.bin_time,\n",
    "     '100000000': t100m1c.bin_time,\n",
    "     '1000000000': t1b1c.bin_time\n",
    "    })\n",
    "df1c = df1c[['10000','100000','1000000','10000000','100000000','1000000000']]\n",
    "df1c.head()"
   ]
  },
  {
   "cell_type": "code",
   "execution_count": 50,
   "metadata": {
    "scrolled": false
   },
   "outputs": [],
   "source": [
    "#swarmplot for 1 core run time vs. bin size\n",
    "# sns.swarmplot(data = df1c[['1000000','10000000','100000000','1000000000']])\n",
    "# plt.xlabel('Bin Size')\n",
    "# plt.ylabel('Run Time 1 Core (seconds)')\n",
    "# plt.title('Run Times vs. Bin Size for 1 Core');"
   ]
  },
  {
   "cell_type": "markdown",
   "metadata": {},
   "source": [
    "# DNA Sample 2\n",
    "### Need 1 core, 10k bin size"
   ]
  },
  {
   "cell_type": "code",
   "execution_count": 51,
   "metadata": {},
   "outputs": [],
   "source": [
    "# #Bin size 10k, 1 core\n",
    "# t10k1c = pd.read_csv('data/basic_parallel_timings/DNA2/', \n",
    "#                     sep='\\t', header=None, names=['Chromosome & Range', 'start_position', 'bin_time'])\n",
    "\n",
    "# #grab total time for run\n",
    "# t10k1c_total = t10k1c.iloc[[-1]].bin_time.values[0]\n",
    "# d1_totals_1c.append(t10k1c_total)\n",
    "# #drop last two rows, which are run times\n",
    "# t10k1c.drop(t10k1c.tail(2).index,inplace=True)\n",
    "# #simple metrics\n",
    "# print('Bin size: 100000, Cores: 1')\n",
    "# print('Total Time (hours):', t10k1c_total/60/60)\n",
    "# print('\\nMetrics (seconds):')\n",
    "# print(t10k1c.bin_time.describe())\n",
    "# print('Coeff of variation', scipy.stats.variation(t10k1c.bin_time))"
   ]
  },
  {
   "cell_type": "code",
   "execution_count": 52,
   "metadata": {},
   "outputs": [
    {
     "name": "stdout",
     "output_type": "stream",
     "text": [
      "Bin size: 1000000, Cores: 1\n",
      "Total Time (hours): 2.2338164722919474\n",
      "\n",
      "Metrics (seconds):\n",
      "count    2493.000000\n",
      "mean        2.435626\n",
      "std         1.458756\n",
      "min         0.315086\n",
      "25%         2.085147\n",
      "50%         2.153746\n",
      "75%         2.313661\n",
      "max        19.064321\n",
      "Name: bin_time, dtype: float64\n",
      "Coeff of variation 0.5988043790059139\n"
     ]
    }
   ],
   "source": [
    "#Bin size 100k, 1 core\n",
    "d2t100k1c = pd.read_csv('data/basic_parallel_timings/DNA2/runDNA2..cores1.binSize100000.runtime.txt', \n",
    "                    sep='\\t', header=None, names=['Chromosome & Range', 'start_position', 'bin_time'])\n",
    "\n",
    "#grab total time for run\n",
    "d2t100k1c_total = d2t100k1c.iloc[[-1]].bin_time.values[0]\n",
    "d2_totals_1c.append(d2t100k1c_total)\n",
    "#drop last two rows, which are run times\n",
    "d2t100k1c.drop(d2t100k1c.tail(2).index,inplace=True)\n",
    "#simple metrics\n",
    "print('Bin size: 1000000, Cores: 1')\n",
    "print('Total Time (hours):', d2t100k1c_total/60/60)\n",
    "print('\\nMetrics (seconds):')\n",
    "print(d2t100k1c.bin_time.describe())\n",
    "print('Coeff of variation', scipy.stats.variation(d2t100k1c.bin_time))"
   ]
  },
  {
   "cell_type": "code",
   "execution_count": 53,
   "metadata": {},
   "outputs": [
    {
     "name": "stdout",
     "output_type": "stream",
     "text": [
      "Bin size: 1M, Cores: 1\n",
      "Total Time (hours): 0.3911364507012889\n",
      "\n",
      "Metrics (seconds):\n",
      "count    250.000000\n",
      "mean       5.062946\n",
      "std        1.844178\n",
      "min        0.355052\n",
      "25%        4.588823\n",
      "50%        5.045177\n",
      "75%        5.686002\n",
      "max       12.706602\n",
      "Name: bin_time, dtype: float64\n",
      "Coeff of variation 0.36352068807883997\n"
     ]
    }
   ],
   "source": [
    "#Bin size 1M, 1 core\n",
    "d2t1m1c = pd.read_csv('data/basic_parallel_timings/DNA2/runDNA2..cores1.binSize1000000.runtime.txt', \n",
    "                    sep='\\t', header=None, names=['Chromosome & Range', 'start_position', 'bin_time'])\n",
    "\n",
    "#grab total time for run\n",
    "d2t1m1c_total = d2t1m1c.iloc[[-1]].bin_time.values[0]\n",
    "d2_totals_1m.append(d2t1m1c_total)\n",
    "d2_totals_1c.append(d2t1m1c_total)\n",
    "#drop last two rows, which are run times\n",
    "d2t1m1c.drop(d2t1m1c.tail(2).index,inplace=True)\n",
    "#simple metrics\n",
    "print('Bin size: 1M, Cores: 1')\n",
    "print('Total Time (hours):', d2t1m1c_total/60/60)\n",
    "print('\\nMetrics (seconds):')\n",
    "print(d2t1m1c.bin_time.describe())\n",
    "print('Coeff of variation', scipy.stats.variation(d2t1m1c.bin_time))"
   ]
  },
  {
   "cell_type": "code",
   "execution_count": 54,
   "metadata": {},
   "outputs": [
    {
     "name": "stdout",
     "output_type": "stream",
     "text": [
      "Bin size: 1M, Cores: 2\n",
      "Total Time (hours): 0.18039367443985418\n",
      "\n",
      "Metrics (seconds):\n",
      "count    250.000000\n",
      "mean       4.605191\n",
      "std        1.456935\n",
      "min        0.378931\n",
      "25%        4.313390\n",
      "50%        4.727699\n",
      "75%        5.284535\n",
      "max        9.737759\n",
      "Name: bin_time, dtype: float64\n",
      "Coeff of variation 0.31573468660030646\n"
     ]
    }
   ],
   "source": [
    "#Bin size 1M, 2 core\n",
    "d2t1m2c = pd.read_csv('data/basic_parallel_timings/DNA2/runDNA2..cores2.binSize1000000.runtime.txt', \n",
    "                    sep='\\t', header=None, names=['Chromosome & Range', 'start_position', 'bin_time'])\n",
    "\n",
    "#grab total time for run\n",
    "d2t1m2c_total = d2t1m2c.iloc[[-1]].bin_time.values[0]\n",
    "d2_totals_1m.append(d2t1m2c_total)\n",
    "#drop last two rows, which are run times\n",
    "d2t1m2c.drop(d2t1m2c.tail(2).index,inplace=True)\n",
    "#simple metrics\n",
    "print('Bin size: 1M, Cores: 2')\n",
    "print('Total Time (hours):', d2t1m2c_total/60/60)\n",
    "print('\\nMetrics (seconds):')\n",
    "print(d2t1m2c.bin_time.describe())\n",
    "print('Coeff of variation', scipy.stats.variation(d2t1m2c.bin_time))"
   ]
  },
  {
   "cell_type": "code",
   "execution_count": 55,
   "metadata": {},
   "outputs": [
    {
     "name": "stdout",
     "output_type": "stream",
     "text": [
      "Bin size: 1M, Cores: 4\n",
      "Total Time (hours): 0.15622415701548248\n",
      "\n",
      "Metrics (seconds):\n",
      "count    250.000000\n",
      "mean       8.223921\n",
      "std        5.038800\n",
      "min        0.301168\n",
      "25%        5.812522\n",
      "50%        6.758643\n",
      "75%        9.652583\n",
      "max       30.522792\n",
      "Name: bin_time, dtype: float64\n",
      "Coeff of variation 0.6114738806873329\n"
     ]
    }
   ],
   "source": [
    "#Bin size 1M, 4 core\n",
    "d2t1m4c = pd.read_csv('data/basic_parallel_timings/DNA2/runDNA2..cores4.binSize1000000.runtime.txt', \n",
    "                    sep='\\t', header=None, names=['Chromosome & Range', 'start_position', 'bin_time'])\n",
    "\n",
    "#grab total time for run\n",
    "d2t1m4c_total = d2t1m4c.iloc[[-1]].bin_time.values[0]\n",
    "d2_totals_1m.append(d2t1m4c_total)\n",
    "#drop last two rows, which are run times\n",
    "d2t1m4c.drop(d2t1m4c.tail(2).index,inplace=True)\n",
    "#simple metrics\n",
    "print('Bin size: 1M, Cores: 4')\n",
    "print('Total Time (hours):', d2t1m4c_total/60/60)\n",
    "print('\\nMetrics (seconds):')\n",
    "print(d2t1m4c.bin_time.describe())\n",
    "print('Coeff of variation', scipy.stats.variation(d2t1m4c.bin_time))"
   ]
  },
  {
   "cell_type": "code",
   "execution_count": 56,
   "metadata": {},
   "outputs": [
    {
     "name": "stdout",
     "output_type": "stream",
     "text": [
      "Bin size: 1M, Cores: 8\n",
      "Total Time (hours): 0.0530416557523939\n",
      "\n",
      "Metrics (seconds):\n",
      "count    250.000000\n",
      "mean       6.814164\n",
      "std       16.592488\n",
      "min        0.338485\n",
      "25%        4.987934\n",
      "50%        5.469676\n",
      "75%        6.168148\n",
      "max      190.949961\n",
      "Name: bin_time, dtype: float64\n",
      "Coeff of variation 2.430124983118812\n"
     ]
    }
   ],
   "source": [
    "#Bin size 1M, 8 core\n",
    "d2t1m8c = pd.read_csv('data/basic_parallel_timings/DNA2/runDNA2..cores8.binSize1000000.runtime.txt', \n",
    "                    sep='\\t', header=None, names=['Chromosome & Range', 'start_position', 'bin_time'])\n",
    "\n",
    "#grab total time for run\n",
    "d2t1m8c_total = d2t1m8c.iloc[[-1]].bin_time.values[0]\n",
    "d2_totals_1m.append(d2t1m8c_total)\n",
    "#drop last two rows, which are run times\n",
    "d2t1m8c.drop(t1m8c.tail(2).index,inplace=True)\n",
    "#simple metrics\n",
    "print('Bin size: 1M, Cores: 8')\n",
    "print('Total Time (hours):', d2t1m8c_total/60/60)\n",
    "print('\\nMetrics (seconds):')\n",
    "print(d2t1m8c.bin_time.describe())\n",
    "print('Coeff of variation', scipy.stats.variation(d2t1m8c.bin_time))"
   ]
  },
  {
   "cell_type": "code",
   "execution_count": 57,
   "metadata": {},
   "outputs": [
    {
     "name": "stdout",
     "output_type": "stream",
     "text": [
      "Bin size: 1M, Cores: 16\n",
      "Total Time (hours): 0.052043177617920836\n",
      "\n",
      "Metrics (seconds):\n",
      "count    250.000000\n",
      "mean      11.055835\n",
      "std        4.231447\n",
      "min        0.355011\n",
      "25%        9.437523\n",
      "50%       11.182089\n",
      "75%       13.125604\n",
      "max       23.784763\n",
      "Name: bin_time, dtype: float64\n",
      "Coeff of variation 0.38196807660486515\n"
     ]
    }
   ],
   "source": [
    "#Bin size 1M, 16 core\n",
    "d2t1m16c = pd.read_csv('data/basic_parallel_timings/DNA2/runDNA2..cores16.binSize1000000.runtime.txt', \n",
    "                    sep='\\t', header=None, names=['Chromosome & Range', 'start_position', 'bin_time'])\n",
    "\n",
    "#grab total time for run\n",
    "d2t1m16c_total = d2t1m16c.iloc[[-1]].bin_time.values[0]\n",
    "d2_totals_1m.append(d2t1m16c_total)\n",
    "#drop last two rows, which are run times\n",
    "d2t1m16c.drop(d2t1m16c.tail(2).index,inplace=True)\n",
    "#simple metrics\n",
    "print('Bin size: 1M, Cores: 16')\n",
    "print('Total Time (hours):', d2t1m16c_total/60/60)\n",
    "print('\\nMetrics (seconds):')\n",
    "print(d2t1m16c.bin_time.describe())\n",
    "print('Coeff of variation', scipy.stats.variation(d2t1m16c.bin_time))"
   ]
  },
  {
   "cell_type": "code",
   "execution_count": 58,
   "metadata": {},
   "outputs": [
    {
     "name": "stdout",
     "output_type": "stream",
     "text": [
      "Bin size: 1M, Cores: 20\n",
      "Total Time (hours): 0.02031936559412214\n",
      "\n",
      "Metrics (seconds):\n",
      "count    250.000000\n",
      "mean       4.705270\n",
      "std        1.693318\n",
      "min        0.326433\n",
      "25%        4.275134\n",
      "50%        4.659511\n",
      "75%        5.384944\n",
      "max       13.254414\n",
      "Name: bin_time, dtype: float64\n",
      "Coeff of variation 0.359156440558954\n"
     ]
    }
   ],
   "source": [
    "#Bin size 1M, 20 core\n",
    "d2t1m20c = pd.read_csv('data/basic_parallel_timings/DNA2/runDNA2..cores20.binSize1000000.runtime.txt', \n",
    "                    sep='\\t', header=None, names=['Chromosome & Range', 'start_position', 'bin_time'])\n",
    "\n",
    "#grab total time for run\n",
    "d2t1m20c_total = d2t1m20c.iloc[[-1]].bin_time.values[0]\n",
    "d2_totals_1m.append(d2t1m20c_total)\n",
    "#drop last two rows, which are run times\n",
    "d2t1m20c.drop(d2t1m20c.tail(2).index,inplace=True)\n",
    "#simple metrics\n",
    "print('Bin size: 1M, Cores: 20')\n",
    "print('Total Time (hours):', d2t1m20c_total/60/60)\n",
    "print('\\nMetrics (seconds):')\n",
    "print(d2t1m20c.bin_time.describe())\n",
    "print('Coeff of variation', scipy.stats.variation(d2t1m20c.bin_time))"
   ]
  },
  {
   "cell_type": "code",
   "execution_count": 59,
   "metadata": {},
   "outputs": [
    {
     "name": "stdout",
     "output_type": "stream",
     "text": [
      "Bin size: 10M, Cores: 1\n",
      "Total Time (hours): 0.22956487364239167\n",
      "\n",
      "Metrics (seconds):\n",
      "count    25.000000\n",
      "mean     32.410323\n",
      "std      10.784868\n",
      "min       0.373038\n",
      "25%      30.179233\n",
      "50%      32.212914\n",
      "75%      37.573432\n",
      "max      53.313798\n",
      "Name: bin_time, dtype: float64\n",
      "Coeff of variation 0.32603715745269973\n"
     ]
    }
   ],
   "source": [
    "#Bin size 10M, 1 core\n",
    "d2t10m1c = pd.read_csv('data/basic_parallel_timings/DNA2/runDNA2..cores1.binSize10000000.runtime.txt', \n",
    "                    sep='\\t', header=None, names=['Chromosome & Range', 'start_position', 'bin_time'])\n",
    "\n",
    "#grab total time for run\n",
    "d2t10m1c_total = d2t10m1c.iloc[[-1]].bin_time.values[0]\n",
    "d2_totals_1c.append(d2t10m1c_total)\n",
    "#drop last two rows, which are run times\n",
    "d2t10m1c.drop(d2t10m1c.tail(2).index,inplace=True)\n",
    "#simple metrics\n",
    "print('Bin size: 10M, Cores: 1')\n",
    "print('Total Time (hours):', d2t10m1c_total/60/60)\n",
    "print('\\nMetrics (seconds):')\n",
    "print(d2t10m1c.bin_time.describe())\n",
    "print('Coeff of variation', scipy.stats.variation(d2t10m1c.bin_time))"
   ]
  },
  {
   "cell_type": "code",
   "execution_count": 60,
   "metadata": {},
   "outputs": [
    {
     "name": "stdout",
     "output_type": "stream",
     "text": [
      "Bin size: 100M, Cores: 1\n",
      "Total Time (hours): 0.2324786884917153\n",
      "\n",
      "Metrics (seconds):\n",
      "count      3.000000\n",
      "mean     278.300325\n",
      "std       96.219374\n",
      "min      173.339769\n",
      "25%      236.283391\n",
      "50%      299.227014\n",
      "75%      330.780604\n",
      "max      362.334194\n",
      "Name: bin_time, dtype: float64\n",
      "Coeff of variation 0.2822949967833023\n"
     ]
    }
   ],
   "source": [
    "#Bin size 100M, 1 core\n",
    "d2t100m1c = pd.read_csv('data/basic_parallel_timings/DNA2/runDNA2..cores1.binSize100000000.runtime.txt', \n",
    "                    sep='\\t', header=None, names=['Chromosome & Range', 'start_position', 'bin_time'])\n",
    "\n",
    "#grab total time for run\n",
    "d2t100m1c_total = d2t100m1c.iloc[[-1]].bin_time.values[0]\n",
    "d2_totals_1c.append(d2t100m1c_total)\n",
    "#drop last two rows, which are run times\n",
    "d2t100m1c.drop(d2t100m1c.tail(2).index,inplace=True)\n",
    "#simple metrics\n",
    "print('Bin size: 100M, Cores: 1')\n",
    "print('Total Time (hours):', d2t100m1c_total/60/60)\n",
    "print('\\nMetrics (seconds):')\n",
    "print(d2t100m1c.bin_time.describe())\n",
    "print('Coeff of variation', scipy.stats.variation(d2t100m1c.bin_time))"
   ]
  },
  {
   "cell_type": "code",
   "execution_count": 61,
   "metadata": {},
   "outputs": [
    {
     "name": "stdout",
     "output_type": "stream",
     "text": [
      "Bin size: 1B, Cores: 1\n",
      "Total Time (hours): 0.19605521659056332\n",
      "\n",
      "Metrics (seconds):\n",
      "count      1.000000\n",
      "mean     704.361555\n",
      "std             NaN\n",
      "min      704.361555\n",
      "25%      704.361555\n",
      "50%      704.361555\n",
      "75%      704.361555\n",
      "max      704.361555\n",
      "Name: bin_time, dtype: float64\n",
      "Coeff of variation 0.0\n"
     ]
    }
   ],
   "source": [
    "#Bin size 1B, 1 core\n",
    "d2t1b1c = pd.read_csv('data/basic_parallel_timings/DNA2/runDNA2..cores1.binSize1000000000.runtime.txt', \n",
    "                    sep='\\t', header=None, names=['Chromosome & Range', 'start_position', 'bin_time'])\n",
    "\n",
    "#grab total time for run\n",
    "d2t1b1c_total = d2t1b1c.iloc[[-1]].bin_time.values[0]\n",
    "d2_totals_1c.append(d2t1b1c_total)\n",
    "#drop last two rows, which are run times\n",
    "d2t1b1c.drop(d2t1b1c.tail(2).index,inplace=True)\n",
    "#simple metrics\n",
    "print('Bin size: 1B, Cores: 1')\n",
    "print('Total Time (hours):', d2t1b1c_total/60/60)\n",
    "print('\\nMetrics (seconds):')\n",
    "print(d2t1b1c.bin_time.describe())\n",
    "print('Coeff of variation', scipy.stats.variation(d2t1b1c.bin_time))"
   ]
  },
  {
   "cell_type": "markdown",
   "metadata": {},
   "source": [
    "# DNA Plots"
   ]
  },
  {
   "cell_type": "code",
   "execution_count": 65,
   "metadata": {},
   "outputs": [
    {
     "data": {
      "text/plain": [
       "([62411.750900507,\n",
       "  6438.322353839871,\n",
       "  1079.02146434784,\n",
       "  523.670238733292,\n",
       "  452.93443059921304,\n",
       "  526.033269643784],\n",
       " [1079.02146434784,\n",
       "  618.7417054176329,\n",
       "  270.091023921967,\n",
       "  144.715441942215,\n",
       "  74.89334940910341,\n",
       "  64.1921379566193],\n",
       " [8041.73930025101,\n",
       "  1408.09122252464,\n",
       "  826.43354511261,\n",
       "  836.9232785701751,\n",
       "  705.798779726028],\n",
       " [1408.09122252464,\n",
       "  649.4172279834751,\n",
       "  562.406965255737,\n",
       "  190.94996070861802,\n",
       "  187.355439424515,\n",
       "  73.14971613883971])"
      ]
     },
     "execution_count": 65,
     "metadata": {},
     "output_type": "execute_result"
    }
   ],
   "source": [
    "d1_totals_1c, d1_totals_1m, d2_totals_1c, d2_totals_1m"
   ]
  },
  {
   "cell_type": "code",
   "execution_count": 77,
   "metadata": {
    "scrolled": false
   },
   "outputs": [
    {
     "data": {
      "image/png": "[encoded data removed]",
      "text/plain": [
       "<Figure size 748.8x514.8 with 1 Axes>"
      ]
     },
     "metadata": {},
     "output_type": "display_data"
    }
   ],
   "source": [
    "#plot time vs. cores for bin size = 1000000\n",
    "plt.plot(cores_1m, d1_totals_1m, '-o', c = '#de2d26', label='DNA Sample 1')\n",
    "plt.plot(cores_1m, d2_totals_1m, '-o', c = '#fc9272', label='DNA Sample 2')\n",
    "# plt.xscale('log')\n",
    "plt.title('DNA: One Chromosome Simple Parallel Time vs. Cores (Bin size = 1 Million)')\n",
    "plt.xlabel('Cores')\n",
    "plt.ylabel('One Chromosome Time (seconds)')\n",
    "plt.legend(loc = 'lower left')\n",
    "plt.xticks([2, 4, 6, 8, 10, 12, 14, 16, 18, 20])\n",
    "sns.despine();"
   ]
  },
  {
   "cell_type": "code",
   "execution_count": 78,
   "metadata": {
    "scrolled": false
   },
   "outputs": [
    {
     "data": {
      "image/png": "[encoded data removed]",
      "text/plain": [
       "<Figure size 748.8x514.8 with 1 Axes>"
      ]
     },
     "metadata": {},
     "output_type": "display_data"
    }
   ],
   "source": [
    "#plot time vs. bin size for 1 core execution\n",
    "plt.plot(bin_sizes, d1_totals_1c, '-o', c = '#de2d26', label='DNA Sample 1')\n",
    "plt.plot(d2_bin_sizes, d2_totals_1c, '-o', c = '#fc9272', label = 'DNA Sample 2')\n",
    "# plt.xscale('log')\n",
    "plt.title('DNA: One Chromosome Execution Time vs. Bin Size (1 Core)')\n",
    "plt.xlabel('Bin Size (log)')\n",
    "plt.ylabel('One Chromosome Time (seconds)')\n",
    "plt.legend(loc = 'lower left')\n",
    "plt.xscale('log')\n",
    "plt.axvline(1000000, c = 'k', linestyle='dashed')\n",
    "sns.despine();"
   ]
  },
  {
   "cell_type": "code",
   "execution_count": 68,
   "metadata": {},
   "outputs": [
    {
     "data": {
      "text/html": [
       "<div>\n",
       "<style scoped>\n",
       "    .dataframe tbody tr th:only-of-type {\n",
       "        vertical-align: middle;\n",
       "    }\n",
       "\n",
       "    .dataframe tbody tr th {\n",
       "        vertical-align: top;\n",
       "    }\n",
       "\n",
       "    .dataframe thead th {\n",
       "        text-align: right;\n",
       "    }\n",
       "</style>\n",
       "<table border=\"1\" class=\"dataframe\">\n",
       "  <thead>\n",
       "    <tr style=\"text-align: right;\">\n",
       "      <th></th>\n",
       "      <th>1</th>\n",
       "      <th>2</th>\n",
       "      <th>4</th>\n",
       "      <th>8</th>\n",
       "      <th>16</th>\n",
       "      <th>20</th>\n",
       "    </tr>\n",
       "  </thead>\n",
       "  <tbody>\n",
       "    <tr>\n",
       "      <th>0</th>\n",
       "      <td>3.916871</td>\n",
       "      <td>4.978713</td>\n",
       "      <td>3.876518</td>\n",
       "      <td>3.592667</td>\n",
       "      <td>3.450031</td>\n",
       "      <td>3.686239</td>\n",
       "    </tr>\n",
       "    <tr>\n",
       "      <th>1</th>\n",
       "      <td>4.298775</td>\n",
       "      <td>4.195014</td>\n",
       "      <td>3.931005</td>\n",
       "      <td>4.047092</td>\n",
       "      <td>3.471656</td>\n",
       "      <td>3.702895</td>\n",
       "    </tr>\n",
       "    <tr>\n",
       "      <th>2</th>\n",
       "      <td>3.531452</td>\n",
       "      <td>3.944107</td>\n",
       "      <td>4.053967</td>\n",
       "      <td>4.071075</td>\n",
       "      <td>3.355170</td>\n",
       "      <td>3.540197</td>\n",
       "    </tr>\n",
       "    <tr>\n",
       "      <th>3</th>\n",
       "      <td>3.676994</td>\n",
       "      <td>4.085724</td>\n",
       "      <td>4.858817</td>\n",
       "      <td>4.413094</td>\n",
       "      <td>3.901576</td>\n",
       "      <td>3.439025</td>\n",
       "    </tr>\n",
       "    <tr>\n",
       "      <th>4</th>\n",
       "      <td>2.926028</td>\n",
       "      <td>3.280100</td>\n",
       "      <td>2.914779</td>\n",
       "      <td>4.939919</td>\n",
       "      <td>4.086812</td>\n",
       "      <td>4.400740</td>\n",
       "    </tr>\n",
       "  </tbody>\n",
       "</table>\n",
       "</div>"
      ],
      "text/plain": [
       "          1         2         4         8        16        20\n",
       "0  3.916871  4.978713  3.876518  3.592667  3.450031  3.686239\n",
       "1  4.298775  4.195014  3.931005  4.047092  3.471656  3.702895\n",
       "2  3.531452  3.944107  4.053967  4.071075  3.355170  3.540197\n",
       "3  3.676994  4.085724  4.858817  4.413094  3.901576  3.439025\n",
       "4  2.926028  3.280100  2.914779  4.939919  4.086812  4.400740"
      ]
     },
     "execution_count": 68,
     "metadata": {},
     "output_type": "execute_result"
    }
   ],
   "source": [
    "#side-by-side boxplots of bin time\n",
    "df1m = pd.DataFrame(\n",
    "    {'1': t1m1c.bin_time,\n",
    "     '2': t1m2c.bin_time,\n",
    "     '4': t1m4c.bin_time,\n",
    "     '8': t1m8c.bin_time,\n",
    "     '16': t1m16c.bin_time,\n",
    "     '20': t1m20c.bin_time\n",
    "    })\n",
    "df1m = df1m[['1','2','4','8','16','20']]\n",
    "df1m.head()"
   ]
  },
  {
   "cell_type": "code",
   "execution_count": 69,
   "metadata": {},
   "outputs": [
    {
     "data": {
      "text/plain": [
       "Text(0.5,1,'Run Times vs. Cores for Bin Size 1 Million')"
      ]
     },
     "execution_count": 69,
     "metadata": {},
     "output_type": "execute_result"
    },
    {
     "data": {
      "image/png": "[encoded data removed]",
      "text/plain": [
       "<Figure size 748.8x514.8 with 1 Axes>"
      ]
     },
     "metadata": {},
     "output_type": "display_data"
    }
   ],
   "source": [
    "sns.boxplot(df1m)\n",
    "plt.xlabel('Cores')\n",
    "plt.ylabel('Run Time per Bin (seconds)')\n",
    "plt.title('Run Times vs. Cores for Bin Size 1 Million')"
   ]
  },
  {
   "cell_type": "code",
   "execution_count": null,
   "metadata": {
    "collapsed": true
   },
   "outputs": [],
   "source": []
  }
 ],
 "metadata": {
  "kernelspec": {
   "display_name": "Python 3",
   "language": "python",
   "name": "python3"
  },
  "language_info": {
   "codemirror_mode": {
    "name": "ipython",
    "version": 3
   },
   "file_extension": ".py",
   "mimetype": "text/x-python",
   "name": "python",
   "nbconvert_exporter": "python",
   "pygments_lexer": "ipython3",
   "version": "3.6.4"
  }
 },
 "nbformat": 4,
 "nbformat_minor": 2
}
