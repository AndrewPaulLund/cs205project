{
 "cells": [
  {
   "cell_type": "markdown",
   "metadata": {},
   "source": [
    "# Basic Parallelization RNA Sample Plots"
   ]
  },
  {
   "cell_type": "code",
   "execution_count": 32,
   "metadata": {
    "collapsed": true
   },
   "outputs": [],
   "source": [
    "%matplotlib inline\n",
    "import pandas as pd\n",
    "import matplotlib.pyplot as plt\n",
    "import seaborn as sns\n",
    "import pandas as pd\n",
    "import numpy as np\n",
    "import scipy\n",
    "sns.set_context('talk')\n",
    "sns.set_style('ticks')\n",
    "import warnings\n",
    "warnings.filterwarnings(\"ignore\")"
   ]
  },
  {
   "cell_type": "code",
   "execution_count": 33,
   "metadata": {
    "collapsed": true
   },
   "outputs": [],
   "source": [
    "#time collections\n",
    "#1 core total times\n",
    "r1_totals_1c = []\n",
    "r2_totals_1c = []\n",
    "bin_sizes = [10000, 100000, 1000000, 10000000, 100000000, 1000000000]\n",
    "r2_bin_sizes = [100000, 1000000, 10000000, 100000000, 1000000000]\n",
    "\n",
    "#collect 1M bin size run times\n",
    "r1_totals_1m = []\n",
    "r2_totals_1m = []\n",
    "cores_1m = [1, 2, 4, 8, 16, 20]"
   ]
  },
  {
   "cell_type": "markdown",
   "metadata": {},
   "source": [
    "# RNA Sample 1"
   ]
  },
  {
   "cell_type": "code",
   "execution_count": 34,
   "metadata": {},
   "outputs": [
    {
     "name": "stdout",
     "output_type": "stream",
     "text": [
      "Bin size: 100000, Cores: 1\n",
      "Total Time (hours): 26.674860498838942\n",
      "\n",
      "Metrics (seconds):\n",
      "count    24926.000000\n",
      "mean         3.195201\n",
      "std          2.795980\n",
      "min          0.289398\n",
      "25%          1.494810\n",
      "50%          2.082565\n",
      "75%          4.405314\n",
      "max         36.909486\n",
      "Name: bin_time, dtype: float64\n",
      "Coeff of variation 0.8750384612495883\n"
     ]
    }
   ],
   "source": [
    "#Bin size 10k, 1 core\n",
    "t10k1c = pd.read_csv('../data/basic_parallel_timings/RNA/runRNA1.cores1.binSize10000.runtime.txt', \n",
    "                    sep='\\t', header=None, names=['Chromosome & Range', 'start_position', 'bin_time'])\n",
    "\n",
    "#grab total time for run\n",
    "t10k1c_total = t10k1c.iloc[[-1]].bin_time.values[0]\n",
    "r1_totals_1c.append(t10k1c_total)\n",
    "#drop last two rows, which are run times\n",
    "t10k1c.drop(t10k1c.tail(2).index,inplace=True)\n",
    "#simple metrics\n",
    "print('Bin size: 100000, Cores: 1')\n",
    "print('Total Time (hours):', t10k1c_total/60/60)\n",
    "print('\\nMetrics (seconds):')\n",
    "print(t10k1c.bin_time.describe())\n",
    "print('Coeff of variation', scipy.stats.variation(t10k1c.bin_time))"
   ]
  },
  {
   "cell_type": "code",
   "execution_count": 35,
   "metadata": {},
   "outputs": [
    {
     "name": "stdout",
     "output_type": "stream",
     "text": [
      "Bin size: 1000000, Cores: 1\n",
      "Total Time (hours): 2.4939465411504114\n",
      "\n",
      "Metrics (seconds):\n",
      "count    2493.000000\n",
      "mean        2.992430\n",
      "std         2.302707\n",
      "min         0.315627\n",
      "25%         1.992156\n",
      "50%         2.264853\n",
      "75%         3.069426\n",
      "max        22.643657\n",
      "Name: bin_time, dtype: float64\n",
      "Coeff of variation 0.7693561660205596\n"
     ]
    }
   ],
   "source": [
    "#Bin size 100k, 1 core\n",
    "t100k1c = pd.read_csv('../data/basic_parallel_timings/RNA/runRNA1.cores1.binSize100000.runtime.txt', \n",
    "                    sep='\\t', header=None, names=['Chromosome & Range', 'start_position', 'bin_time'])\n",
    "\n",
    "#grab total time for run\n",
    "t100k1c_total = t100k1c.iloc[[-1]].bin_time.values[0]\n",
    "r1_totals_1c.append(t100k1c_total)\n",
    "#drop last two rows, which are run times\n",
    "t100k1c.drop(t100k1c.tail(2).index,inplace=True)\n",
    "#simple metrics\n",
    "print('Bin size: 1000000, Cores: 1')\n",
    "print('Total Time (hours):', t100k1c_total/60/60)\n",
    "print('\\nMetrics (seconds):')\n",
    "print(t100k1c.bin_time.describe())\n",
    "print('Coeff of variation', scipy.stats.variation(t100k1c.bin_time))"
   ]
  },
  {
   "cell_type": "code",
   "execution_count": 36,
   "metadata": {},
   "outputs": [
    {
     "name": "stdout",
     "output_type": "stream",
     "text": [
      "Bin size: 1M, Cores: 1\n",
      "Total Time (hours): 0.6228272979789307\n",
      "\n",
      "Metrics (seconds):\n",
      "count    250.000000\n",
      "mean       8.399818\n",
      "std        5.188710\n",
      "min        0.331385\n",
      "25%        4.804770\n",
      "50%        7.355857\n",
      "75%       10.756622\n",
      "max       28.350008\n",
      "Name: bin_time, dtype: float64\n",
      "Coeff of variation 0.616480294356106\n"
     ]
    }
   ],
   "source": [
    "#Bin size 1M, 1 core\n",
    "t1m1c = pd.read_csv('../data/basic_parallel_timings/RNA/runRNA1.cores1.binSize1000000.runtime.txt', \n",
    "                    sep='\\t', header=None, names=['Chromosome & Range', 'start_position', 'bin_time'])\n",
    "\n",
    "#grab total time for run\n",
    "t1m1c_total = t1m1c.iloc[[-1]].bin_time.values[0]\n",
    "r1_totals_1m.append(t1m1c_total)\n",
    "r1_totals_1c.append(t1m1c_total)\n",
    "#drop last two rows, which are run times\n",
    "t1m1c.drop(t1m1c.tail(2).index,inplace=True)\n",
    "#simple metrics\n",
    "print('Bin size: 1M, Cores: 1')\n",
    "print('Total Time (hours):', t1m1c_total/60/60)\n",
    "print('\\nMetrics (seconds):')\n",
    "print(t1m1c.bin_time.describe())\n",
    "print('Coeff of variation', scipy.stats.variation(t1m1c.bin_time))"
   ]
  },
  {
   "cell_type": "code",
   "execution_count": 37,
   "metadata": {},
   "outputs": [
    {
     "name": "stdout",
     "output_type": "stream",
     "text": [
      "Bin size: 1M, Cores: 2\n",
      "Total Time (hours): 0.2098458728525375\n",
      "\n",
      "Metrics (seconds):\n",
      "count    250.000000\n",
      "mean       5.416443\n",
      "std        4.381065\n",
      "min        0.347740\n",
      "25%        2.790671\n",
      "50%        4.444091\n",
      "75%        6.605443\n",
      "max       35.360636\n",
      "Name: bin_time, dtype: float64\n",
      "Coeff of variation 0.8072261235292705\n"
     ]
    }
   ],
   "source": [
    "#Bin size 1M, 2 core\n",
    "t1m2c = pd.read_csv('../data/basic_parallel_timings/RNA/runRNA1.cores2.binSize1000000.runtime.txt', \n",
    "                    sep='\\t', header=None, names=['Chromosome & Range', 'start_position', 'bin_time'])\n",
    "\n",
    "#grab total time for run\n",
    "t1m2c_total = t1m2c.iloc[[-1]].bin_time.values[0]\n",
    "r1_totals_1m.append(t1m2c_total)\n",
    "#drop last two rows, which are run times\n",
    "t1m2c.drop(t1m2c.tail(2).index,inplace=True)\n",
    "#simple metrics\n",
    "print('Bin size: 1M, Cores: 2')\n",
    "print('Total Time (hours):', t1m2c_total/60/60)\n",
    "print('\\nMetrics (seconds):')\n",
    "print(t1m2c.bin_time.describe())\n",
    "print('Coeff of variation', scipy.stats.variation(t1m2c.bin_time))"
   ]
  },
  {
   "cell_type": "code",
   "execution_count": 38,
   "metadata": {},
   "outputs": [
    {
     "name": "stdout",
     "output_type": "stream",
     "text": [
      "Bin size: 1M, Cores: 4\n",
      "Total Time (hours): 0.09131721754868832\n",
      "\n",
      "Metrics (seconds):\n",
      "count    250.000000\n",
      "mean       4.635033\n",
      "std        3.588764\n",
      "min        0.331724\n",
      "25%        2.430910\n",
      "50%        3.854547\n",
      "75%        5.729715\n",
      "max       25.306551\n",
      "Name: bin_time, dtype: float64\n",
      "Coeff of variation 0.7727193620233355\n"
     ]
    }
   ],
   "source": [
    "#Bin size 1M, 4 core\n",
    "t1m4c = pd.read_csv('../data/basic_parallel_timings/RNA/runRNA1.cores4.binSize1000000.runtime.txt', \n",
    "                    sep='\\t', header=None, names=['Chromosome & Range', 'start_position', 'bin_time'])\n",
    "\n",
    "#grab total time for run\n",
    "t1m4c_total = t1m4c.iloc[[-1]].bin_time.values[0]\n",
    "r1_totals_1m.append(t1m4c_total)\n",
    "#drop last two rows, which are run times\n",
    "t1m4c.drop(t1m4c.tail(2).index,inplace=True)\n",
    "#simple metrics\n",
    "print('Bin size: 1M, Cores: 4')\n",
    "print('Total Time (hours):', t1m4c_total/60/60)\n",
    "print('\\nMetrics (seconds):')\n",
    "print(t1m4c.bin_time.describe())\n",
    "print('Coeff of variation', scipy.stats.variation(t1m4c.bin_time))"
   ]
  },
  {
   "cell_type": "code",
   "execution_count": 39,
   "metadata": {},
   "outputs": [
    {
     "name": "stdout",
     "output_type": "stream",
     "text": [
      "Bin size: 1M, Cores: 8\n",
      "Total Time (hours): 0.05273909052213028\n",
      "\n",
      "Metrics (seconds):\n",
      "count    250.000000\n",
      "mean       5.366311\n",
      "std        4.221371\n",
      "min        0.329988\n",
      "25%        2.626831\n",
      "50%        4.396255\n",
      "75%        6.806034\n",
      "max       28.670106\n",
      "Name: bin_time, dtype: float64\n",
      "Coeff of variation 0.7850680645868426\n"
     ]
    }
   ],
   "source": [
    "#Bin size 1M, 8 core\n",
    "t1m8c = pd.read_csv('../data/basic_parallel_timings/RNA/runRNA1.cores8.binSize1000000.runtime.txt', \n",
    "                    sep='\\t', header=None, names=['Chromosome & Range', 'start_position', 'bin_time'])\n",
    "\n",
    "#grab total time for run\n",
    "t1m8c_total = t1m8c.iloc[[-1]].bin_time.values[0]\n",
    "r1_totals_1m.append(t1m8c_total)\n",
    "#drop last two rows, which are run times\n",
    "t1m8c.drop(t1m8c.tail(2).index,inplace=True)\n",
    "#simple metrics\n",
    "print('Bin size: 1M, Cores: 8')\n",
    "print('Total Time (hours):', t1m8c_total/60/60)\n",
    "print('\\nMetrics (seconds):')\n",
    "print(t1m8c.bin_time.describe())\n",
    "print('Coeff of variation', scipy.stats.variation(t1m8c.bin_time))"
   ]
  },
  {
   "cell_type": "code",
   "execution_count": 40,
   "metadata": {},
   "outputs": [
    {
     "name": "stdout",
     "output_type": "stream",
     "text": [
      "Bin size: 1M, Cores: 16\n",
      "Total Time (hours): 0.024411275651719837\n",
      "\n",
      "Metrics (seconds):\n",
      "count    250.000000\n",
      "mean       4.781218\n",
      "std        3.873791\n",
      "min        0.304751\n",
      "25%        2.469342\n",
      "50%        3.826046\n",
      "75%        5.975962\n",
      "max       32.284903\n",
      "Name: bin_time, dtype: float64\n",
      "Coeff of variation 0.8085880579459335\n"
     ]
    }
   ],
   "source": [
    "#Bin size 1M, 16 core\n",
    "t1m16c = pd.read_csv('../data/basic_parallel_timings/RNA/runRNA1.cores16.binSize1000000.runtime.txt', \n",
    "                    sep='\\t', header=None, names=['Chromosome & Range', 'start_position', 'bin_time'])\n",
    "\n",
    "#grab total time for run\n",
    "t1m16c_total = t1m16c.iloc[[-1]].bin_time.values[0]\n",
    "r1_totals_1m.append(t1m16c_total)\n",
    "#drop last two rows, which are run times\n",
    "t1m16c.drop(t1m16c.tail(2).index,inplace=True)\n",
    "#simple metrics\n",
    "print('Bin size: 1M, Cores: 16')\n",
    "print('Total Time (hours):', t1m16c_total/60/60)\n",
    "print('\\nMetrics (seconds):')\n",
    "print(t1m16c.bin_time.describe())\n",
    "print('Coeff of variation', scipy.stats.variation(t1m16c.bin_time))"
   ]
  },
  {
   "cell_type": "code",
   "execution_count": 41,
   "metadata": {},
   "outputs": [
    {
     "name": "stdout",
     "output_type": "stream",
     "text": [
      "Bin size: 1M, Cores: 20\n",
      "Total Time (hours): 0.021083507802751332\n",
      "\n",
      "Metrics (seconds):\n",
      "count    250.000000\n",
      "mean       5.038374\n",
      "std        3.801769\n",
      "min        0.315809\n",
      "25%        2.409822\n",
      "50%        3.961014\n",
      "75%        6.210618\n",
      "max       25.844472\n",
      "Name: bin_time, dtype: float64\n",
      "Coeff of variation 0.7530520056442905\n"
     ]
    }
   ],
   "source": [
    "#Bin size 1M, 20 core\n",
    "t1m20c = pd.read_csv('../data/basic_parallel_timings/RNA/runRNA1.cores20.binSize1000000.runtime.txt', \n",
    "                    sep='\\t', header=None, names=['Chromosome & Range', 'start_position', 'bin_time'])\n",
    "\n",
    "#grab total time for run\n",
    "t1m20c_total = t1m20c.iloc[[-1]].bin_time.values[0]\n",
    "r1_totals_1m.append(t1m20c_total)\n",
    "#drop last two rows, which are run times\n",
    "t1m20c.drop(t1m20c.tail(2).index,inplace=True)\n",
    "#simple metrics\n",
    "print('Bin size: 1M, Cores: 20')\n",
    "print('Total Time (hours):', t1m20c_total/60/60)\n",
    "print('\\nMetrics (seconds):')\n",
    "print(t1m20c.bin_time.describe())\n",
    "print('Coeff of variation', scipy.stats.variation(t1m20c.bin_time))"
   ]
  },
  {
   "cell_type": "code",
   "execution_count": 42,
   "metadata": {},
   "outputs": [
    {
     "name": "stdout",
     "output_type": "stream",
     "text": [
      "Bin size: 10M, Cores: 1\n",
      "Total Time (hours): 0.2505661047829522\n",
      "\n",
      "Metrics (seconds):\n",
      "count     25.000000\n",
      "mean      35.529002\n",
      "std       24.545085\n",
      "min        0.343528\n",
      "25%       19.817311\n",
      "50%       28.009632\n",
      "75%       51.887824\n",
      "max      106.782554\n",
      "Name: bin_time, dtype: float64\n",
      "Coeff of variation 0.6768885129353603\n"
     ]
    }
   ],
   "source": [
    "#Bin size 10M, 1 core\n",
    "t10m1c = pd.read_csv('../data/basic_parallel_timings/RNA/runRNA1.cores1.binSize10000000.runtime.txt', \n",
    "                    sep='\\t', header=None, names=['Chromosome & Range', 'start_position', 'bin_time'])\n",
    "\n",
    "#grab total time for run\n",
    "t10m1c_total = t10m1c.iloc[[-1]].bin_time.values[0]\n",
    "r1_totals_1c.append(t10m1c_total)\n",
    "#drop last two rows, which are run times\n",
    "t10m1c.drop(t10m1c.tail(2).index,inplace=True)\n",
    "#simple metrics\n",
    "print('Bin size: 10M, Cores: 1')\n",
    "print('Total Time (hours):', t10m1c_total/60/60)\n",
    "print('\\nMetrics (seconds):')\n",
    "print(t10m1c.bin_time.describe())\n",
    "print('Coeff of variation', scipy.stats.variation(t10m1c.bin_time))"
   ]
  },
  {
   "cell_type": "code",
   "execution_count": 43,
   "metadata": {},
   "outputs": [
    {
     "name": "stdout",
     "output_type": "stream",
     "text": [
      "Bin size: 100M, Cores: 1\n",
      "Total Time (hours): 0.2517734600438011\n",
      "\n",
      "Metrics (seconds):\n",
      "count      3.000000\n",
      "mean     301.324205\n",
      "std      199.169303\n",
      "min      111.736597\n",
      "25%      197.556178\n",
      "50%      283.375758\n",
      "75%      396.118010\n",
      "max      508.860261\n",
      "Name: bin_time, dtype: float64\n",
      "Coeff of variation 0.5396879896632012\n"
     ]
    }
   ],
   "source": [
    "#Bin size 100M, 1 core\n",
    "t100m1c = pd.read_csv('../data/basic_parallel_timings/RNA/runRNA1.cores1.binSize100000000.runtime.txt', \n",
    "                    sep='\\t', header=None, names=['Chromosome & Range', 'start_position', 'bin_time'])\n",
    "\n",
    "#grab total time for run\n",
    "t100m1c_total = t100m1c.iloc[[-1]].bin_time.values[0]\n",
    "r1_totals_1c.append(t100m1c_total)\n",
    "#drop last two rows, which are run times\n",
    "t100m1c.drop(t100m1c.tail(2).index,inplace=True)\n",
    "#simple metrics\n",
    "print('Bin size: 100M, Cores: 1')\n",
    "print('Total Time (hours):', t100m1c_total/60/60)\n",
    "print('\\nMetrics (seconds):')\n",
    "print(t100m1c.bin_time.describe())\n",
    "print('Coeff of variation', scipy.stats.variation(t100m1c.bin_time))"
   ]
  },
  {
   "cell_type": "code",
   "execution_count": 44,
   "metadata": {},
   "outputs": [
    {
     "name": "stdout",
     "output_type": "stream",
     "text": [
      "Bin size: 1B, Cores: 1\n",
      "Total Time (hours): 0.2667947117487589\n",
      "\n",
      "Metrics (seconds):\n",
      "count      1.000000\n",
      "mean     959.376046\n",
      "std             NaN\n",
      "min      959.376046\n",
      "25%      959.376046\n",
      "50%      959.376046\n",
      "75%      959.376046\n",
      "max      959.376046\n",
      "Name: bin_time, dtype: float64\n",
      "Coeff of variation 0.0\n"
     ]
    }
   ],
   "source": [
    "#Bin size 1B, 1 core\n",
    "t1b1c = pd.read_csv('../data/basic_parallel_timings/RNA/runRNA1.cores1.binSize1000000000.runtime.txt', \n",
    "                    sep='\\t', header=None, names=['Chromosome & Range', 'start_position', 'bin_time'])\n",
    "\n",
    "#grab total time for run\n",
    "t1b1c_total = t1b1c.iloc[[-1]].bin_time.values[0]\n",
    "r1_totals_1c.append(t1b1c_total)\n",
    "#drop last two rows, which are run times\n",
    "t1b1c.drop(t1b1c.tail(2).index,inplace=True)\n",
    "#simple metrics\n",
    "print('Bin size: 1B, Cores: 1')\n",
    "print('Total Time (hours):', t1b1c_total/60/60)\n",
    "print('\\nMetrics (seconds):')\n",
    "print(t1b1c.bin_time.describe())\n",
    "print('Coeff of variation', scipy.stats.variation(t1b1c.bin_time))"
   ]
  },
  {
   "cell_type": "code",
   "execution_count": 45,
   "metadata": {
    "collapsed": true
   },
   "outputs": [],
   "source": [
    "# #side-by-side boxplots of bin time\n",
    "# df1c = pd.DataFrame(\n",
    "#     {'10000': t10k1c.bin_time,\n",
    "#      '100000': t100k1c.bin_time,\n",
    "#      '1000000': t1m1c.bin_time,\n",
    "#      '10000000': t10m1c.bin_time,\n",
    "#      '100000000': t100m1c.bin_time,\n",
    "#      '1000000000': t1b1c.bin_time\n",
    "#     })\n",
    "# df1c = df1c[['10000','100000','1000000','10000000','100000000','1000000000']]\n",
    "# df1c.head()"
   ]
  },
  {
   "cell_type": "code",
   "execution_count": 46,
   "metadata": {
    "collapsed": true,
    "scrolled": false
   },
   "outputs": [],
   "source": [
    "#swarmplot for 1 core run time vs. bin size\n",
    "# sns.swarmplot(data = df1c[['1000000','10000000','100000000','1000000000']])\n",
    "# plt.xlabel('Bin Size')\n",
    "# plt.ylabel('Run Time 1 Core (seconds)')\n",
    "# plt.title('Run Times vs. Bin Size for 1 Core');"
   ]
  },
  {
   "cell_type": "markdown",
   "metadata": {},
   "source": [
    "# RNA Sample 2\n",
    "### Need 1 core, 10k bin size"
   ]
  },
  {
   "cell_type": "code",
   "execution_count": 47,
   "metadata": {
    "collapsed": true
   },
   "outputs": [],
   "source": [
    "# #Bin size 10k, 1 core\n",
    "# t10k1c = pd.read_csv('data/basic_parallel_timings/DNA2/', \n",
    "#                     sep='\\t', header=None, names=['Chromosome & Range', 'start_position', 'bin_time'])\n",
    "\n",
    "# #grab total time for run\n",
    "# t10k1c_total = t10k1c.iloc[[-1]].bin_time.values[0]\n",
    "# d1_totals_1c.append(t10k1c_total)\n",
    "# #drop last two rows, which are run times\n",
    "# t10k1c.drop(t10k1c.tail(2).index,inplace=True)\n",
    "# #simple metrics\n",
    "# print('Bin size: 100000, Cores: 1')\n",
    "# print('Total Time (hours):', t10k1c_total/60/60)\n",
    "# print('\\nMetrics (seconds):')\n",
    "# print(t10k1c.bin_time.describe())\n",
    "# print('Coeff of variation', scipy.stats.variation(t10k1c.bin_time))"
   ]
  },
  {
   "cell_type": "code",
   "execution_count": 48,
   "metadata": {},
   "outputs": [
    {
     "name": "stdout",
     "output_type": "stream",
     "text": [
      "Bin size: 1000000, Cores: 1\n",
      "Total Time (hours): 1.0675238623883998\n",
      "\n",
      "Metrics (seconds):\n",
      "count    2493.000000\n",
      "mean        2.546582\n",
      "std         2.090272\n",
      "min         0.346334\n",
      "25%         1.897392\n",
      "50%         2.146251\n",
      "75%         2.787018\n",
      "max        70.475564\n",
      "Name: bin_time, dtype: float64\n",
      "Coeff of variation 0.820650181330606\n"
     ]
    }
   ],
   "source": [
    "#Bin size 100k, 1 core\n",
    "r2t100k1c = pd.read_csv('../data/basic_parallel_timings/RNA2/runRNA2.cores2.binSize100000.runtime.txt', \n",
    "                    sep='\\t', header=None, names=['Chromosome & Range', 'start_position', 'bin_time'])\n",
    "\n",
    "#grab total time for run\n",
    "r2t100k1c_total = r2t100k1c.iloc[[-1]].bin_time.values[0]\n",
    "r2_totals_1c.append(r2t100k1c_total)\n",
    "#drop last two rows, which are run times\n",
    "r2t100k1c.drop(r2t100k1c.tail(2).index,inplace=True)\n",
    "#simple metrics\n",
    "print('Bin size: 1000000, Cores: 1')\n",
    "print('Total Time (hours):', r2t100k1c_total/60/60)\n",
    "print('\\nMetrics (seconds):')\n",
    "print(r2t100k1c.bin_time.describe())\n",
    "print('Coeff of variation', scipy.stats.variation(r2t100k1c.bin_time))"
   ]
  },
  {
   "cell_type": "code",
   "execution_count": 49,
   "metadata": {},
   "outputs": [
    {
     "name": "stdout",
     "output_type": "stream",
     "text": [
      "Bin size: 1M, Cores: 1\n",
      "Total Time (hours): 0.5528534453445\n",
      "\n",
      "Metrics (seconds):\n",
      "count    250.000000\n",
      "mean       7.325858\n",
      "std        8.125899\n",
      "min        0.365311\n",
      "25%        2.706285\n",
      "50%        5.320578\n",
      "75%        8.998782\n",
      "max       79.292844\n",
      "Name: bin_time, dtype: float64\n",
      "Coeff of variation 1.106987167847529\n"
     ]
    }
   ],
   "source": [
    "#Bin size 1M, 1 core\n",
    "r2t1m1c = pd.read_csv('../data/basic_parallel_timings/RNA2/runRNA2.cores1.binSize1000000.runtime.txt', \n",
    "                    sep='\\t', header=None, names=['Chromosome & Range', 'start_position', 'bin_time'])\n",
    "\n",
    "#grab total time for run\n",
    "r2t1m1c_total = r2t1m1c.iloc[[-1]].bin_time.values[0]\n",
    "r2_totals_1m.append(r2t1m1c_total)\n",
    "r2_totals_1c.append(r2t1m1c_total)\n",
    "#drop last two rows, which are run times\n",
    "r2t1m1c.drop(r2t1m1c.tail(2).index,inplace=True)\n",
    "#simple metrics\n",
    "print('Bin size: 1M, Cores: 1')\n",
    "print('Total Time (hours):', r2t1m1c_total/60/60)\n",
    "print('\\nMetrics (seconds):')\n",
    "print(r2t1m1c.bin_time.describe())\n",
    "print('Coeff of variation', scipy.stats.variation(r2t1m1c.bin_time))"
   ]
  },
  {
   "cell_type": "code",
   "execution_count": 50,
   "metadata": {},
   "outputs": [
    {
     "name": "stdout",
     "output_type": "stream",
     "text": [
      "Bin size: 1M, Cores: 2\n",
      "Total Time (hours): 0.2674397304322983\n",
      "\n",
      "Metrics (seconds):\n",
      "count    250.000000\n",
      "mean       7.012522\n",
      "std        7.475229\n",
      "min        0.350293\n",
      "25%        2.666470\n",
      "50%        5.073893\n",
      "75%        8.579451\n",
      "max       69.649992\n",
      "Name: bin_time, dtype: float64\n",
      "Coeff of variation 1.0638489010756935\n"
     ]
    }
   ],
   "source": [
    "#Bin size 1M, 2 core\n",
    "r2t1m2c = pd.read_csv('../data/basic_parallel_timings/RNA2/runRNA2.cores2.binSize1000000.runtime.txt', \n",
    "                    sep='\\t', header=None, names=['Chromosome & Range', 'start_position', 'bin_time'])\n",
    "\n",
    "#grab total time for run\n",
    "r2t1m2c_total = r2t1m2c.iloc[[-1]].bin_time.values[0]\n",
    "r2_totals_1m.append(r2t1m2c_total)\n",
    "#drop last two rows, which are run times\n",
    "r2t1m2c.drop(r2t1m2c.tail(2).index,inplace=True)\n",
    "#simple metrics\n",
    "print('Bin size: 1M, Cores: 2')\n",
    "print('Total Time (hours):', r2t1m2c_total/60/60)\n",
    "print('\\nMetrics (seconds):')\n",
    "print(r2t1m2c.bin_time.describe())\n",
    "print('Coeff of variation', scipy.stats.variation(r2t1m2c.bin_time))"
   ]
  },
  {
   "cell_type": "code",
   "execution_count": 51,
   "metadata": {},
   "outputs": [
    {
     "name": "stdout",
     "output_type": "stream",
     "text": [
      "Bin size: 1M, Cores: 4\n",
      "Total Time (hours): 0.15305617802672916\n",
      "\n",
      "Metrics (seconds):\n",
      "count    250.000000\n",
      "mean       8.131995\n",
      "std        8.179155\n",
      "min        0.349667\n",
      "25%        3.191222\n",
      "50%        6.003184\n",
      "75%        9.997772\n",
      "max       69.876813\n",
      "Name: bin_time, dtype: float64\n",
      "Coeff of variation 1.0037856752015115\n"
     ]
    }
   ],
   "source": [
    "#Bin size 1M, 4 core\n",
    "r2t1m4c = pd.read_csv('../data/basic_parallel_timings/RNA2/runRNA2.cores4.binSize1000000.runtime.txt', \n",
    "                    sep='\\t', header=None, names=['Chromosome & Range', 'start_position', 'bin_time'])\n",
    "\n",
    "#grab total time for run\n",
    "r2t1m4c_total = r2t1m4c.iloc[[-1]].bin_time.values[0]\n",
    "r2_totals_1m.append(r2t1m4c_total)\n",
    "#drop last two rows, which are run times\n",
    "r2t1m4c.drop(r2t1m4c.tail(2).index,inplace=True)\n",
    "#simple metrics\n",
    "print('Bin size: 1M, Cores: 4')\n",
    "print('Total Time (hours):', r2t1m4c_total/60/60)\n",
    "print('\\nMetrics (seconds):')\n",
    "print(r2t1m4c.bin_time.describe())\n",
    "print('Coeff of variation', scipy.stats.variation(r2t1m4c.bin_time))"
   ]
  },
  {
   "cell_type": "code",
   "execution_count": 52,
   "metadata": {},
   "outputs": [
    {
     "name": "stdout",
     "output_type": "stream",
     "text": [
      "Bin size: 1M, Cores: 8\n",
      "Total Time (hours): 0.07764980892340335\n",
      "\n",
      "Metrics (seconds):\n",
      "count    250.000000\n",
      "mean      10.124320\n",
      "std       25.493410\n",
      "min        0.343376\n",
      "25%        3.298303\n",
      "50%        6.148804\n",
      "75%        9.805511\n",
      "max      279.539312\n",
      "Name: bin_time, dtype: float64\n",
      "Coeff of variation 2.5129955894652256\n"
     ]
    }
   ],
   "source": [
    "#Bin size 1M, 8 core\n",
    "r2t1m8c = pd.read_csv('../data/basic_parallel_timings/RNA2/runRNA2.cores8.binSize1000000.runtime.txt', \n",
    "                    sep='\\t', header=None, names=['Chromosome & Range', 'start_position', 'bin_time'])\n",
    "\n",
    "#grab total time for run\n",
    "r2t1m8c_total = r2t1m8c.iloc[[-1]].bin_time.values[0]\n",
    "r2_totals_1m.append(r2t1m8c_total)\n",
    "#drop last two rows, which are run times\n",
    "r2t1m8c.drop(t1m8c.tail(2).index,inplace=True)\n",
    "#simple metrics\n",
    "print('Bin size: 1M, Cores: 8')\n",
    "print('Total Time (hours):', r2t1m8c_total/60/60)\n",
    "print('\\nMetrics (seconds):')\n",
    "print(r2t1m8c.bin_time.describe())\n",
    "print('Coeff of variation', scipy.stats.variation(r2t1m8c.bin_time))"
   ]
  },
  {
   "cell_type": "code",
   "execution_count": 53,
   "metadata": {},
   "outputs": [
    {
     "name": "stdout",
     "output_type": "stream",
     "text": [
      "Bin size: 1M, Cores: 16\n",
      "Total Time (hours): 0.03872421324253083\n",
      "\n",
      "Metrics (seconds):\n",
      "count    250.000000\n",
      "mean       7.882841\n",
      "std        8.228648\n",
      "min        0.324672\n",
      "25%        3.033198\n",
      "50%        5.942989\n",
      "75%        9.731611\n",
      "max       66.096266\n",
      "Name: bin_time, dtype: float64\n",
      "Coeff of variation 1.0417785732553004\n"
     ]
    }
   ],
   "source": [
    "#Bin size 1M, 16 core\n",
    "r2t1m16c = pd.read_csv('../data/basic_parallel_timings/RNA2/runRNA2.cores16.binSize1000000.runtime.txt', \n",
    "                    sep='\\t', header=None, names=['Chromosome & Range', 'start_position', 'bin_time'])\n",
    "\n",
    "#grab total time for run\n",
    "r2t1m16c_total = r2t1m16c.iloc[[-1]].bin_time.values[0]\n",
    "r2_totals_1m.append(r2t1m16c_total)\n",
    "#drop last two rows, which are run times\n",
    "r2t1m16c.drop(r2t1m16c.tail(2).index,inplace=True)\n",
    "#simple metrics\n",
    "print('Bin size: 1M, Cores: 16')\n",
    "print('Total Time (hours):', r2t1m16c_total/60/60)\n",
    "print('\\nMetrics (seconds):')\n",
    "print(r2t1m16c.bin_time.describe())\n",
    "print('Coeff of variation', scipy.stats.variation(r2t1m16c.bin_time))"
   ]
  },
  {
   "cell_type": "code",
   "execution_count": 54,
   "metadata": {},
   "outputs": [
    {
     "name": "stdout",
     "output_type": "stream",
     "text": [
      "Bin size: 1M, Cores: 20\n",
      "Total Time (hours): 0.028404931293593616\n",
      "\n",
      "Metrics (seconds):\n",
      "count    250.000000\n",
      "mean       7.170395\n",
      "std        7.839130\n",
      "min        0.326856\n",
      "25%        2.728302\n",
      "50%        5.246584\n",
      "75%        8.744103\n",
      "max       75.856701\n",
      "Name: bin_time, dtype: float64\n",
      "Coeff of variation 1.091074587963937\n"
     ]
    }
   ],
   "source": [
    "#Bin size 1M, 20 core\n",
    "r2t1m20c = pd.read_csv('../data/basic_parallel_timings/RNA2/runRNA2.cores20.binSize1000000.runtime.txt', \n",
    "                    sep='\\t', header=None, names=['Chromosome & Range', 'start_position', 'bin_time'])\n",
    "\n",
    "#grab total time for run\n",
    "r2t1m20c_total = r2t1m20c.iloc[[-1]].bin_time.values[0]\n",
    "r2_totals_1m.append(r2t1m20c_total)\n",
    "#drop last two rows, which are run times\n",
    "r2t1m20c.drop(r2t1m20c.tail(2).index,inplace=True)\n",
    "#simple metrics\n",
    "print('Bin size: 1M, Cores: 20')\n",
    "print('Total Time (hours):', r2t1m20c_total/60/60)\n",
    "print('\\nMetrics (seconds):')\n",
    "print(r2t1m20c.bin_time.describe())\n",
    "print('Coeff of variation', scipy.stats.variation(r2t1m20c.bin_time))"
   ]
  },
  {
   "cell_type": "code",
   "execution_count": 55,
   "metadata": {},
   "outputs": [
    {
     "name": "stdout",
     "output_type": "stream",
     "text": [
      "Bin size: 10M, Cores: 1\n",
      "Total Time (hours): 0.44573641863134167\n",
      "\n",
      "Metrics (seconds):\n",
      "count     25.000000\n",
      "mean      63.533032\n",
      "std       48.271246\n",
      "min        0.357791\n",
      "25%       32.235283\n",
      "50%       50.581416\n",
      "75%       91.670917\n",
      "max      213.667524\n",
      "Name: bin_time, dtype: float64\n",
      "Coeff of variation 0.7444311662864675\n"
     ]
    }
   ],
   "source": [
    "#Bin size 10M, 1 core\n",
    "r2t10m1c = pd.read_csv('../data/basic_parallel_timings/RNA2/runRNA2.cores1.binSize10000000.runtime.txt', \n",
    "                    sep='\\t', header=None, names=['Chromosome & Range', 'start_position', 'bin_time'])\n",
    "\n",
    "#grab total time for run\n",
    "r2t10m1c_total = r2t10m1c.iloc[[-1]].bin_time.values[0]\n",
    "r2_totals_1c.append(r2t10m1c_total)\n",
    "#drop last two rows, which are run times\n",
    "r2t10m1c.drop(r2t10m1c.tail(2).index,inplace=True)\n",
    "#simple metrics\n",
    "print('Bin size: 10M, Cores: 1')\n",
    "print('Total Time (hours):', r2t10m1c_total/60/60)\n",
    "print('\\nMetrics (seconds):')\n",
    "print(r2t10m1c.bin_time.describe())\n",
    "print('Coeff of variation', scipy.stats.variation(r2t10m1c.bin_time))"
   ]
  },
  {
   "cell_type": "code",
   "execution_count": 56,
   "metadata": {},
   "outputs": [
    {
     "name": "stdout",
     "output_type": "stream",
     "text": [
      "Bin size: 100M, Cores: 1\n",
      "Total Time (hours): 0.39672057231267216\n",
      "\n",
      "Metrics (seconds):\n",
      "count      3.000000\n",
      "mean     474.900578\n",
      "std      298.122331\n",
      "min      173.098617\n",
      "25%      327.750007\n",
      "50%      482.401398\n",
      "75%      625.801559\n",
      "max      769.201720\n",
      "Name: bin_time, dtype: float64\n",
      "Coeff of variation 0.5125617337263326\n"
     ]
    }
   ],
   "source": [
    "#Bin size 100M, 1 core\n",
    "r2t100m1c = pd.read_csv('../data/basic_parallel_timings/RNA2/runRNA2.cores1.binSize100000000.runtime.txt', \n",
    "                    sep='\\t', header=None, names=['Chromosome & Range', 'start_position', 'bin_time'])\n",
    "\n",
    "#grab total time for run\n",
    "r2t100m1c_total = r2t100m1c.iloc[[-1]].bin_time.values[0]\n",
    "r2_totals_1c.append(r2t100m1c_total)\n",
    "#drop last two rows, which are run times\n",
    "r2t100m1c.drop(r2t100m1c.tail(2).index,inplace=True)\n",
    "#simple metrics\n",
    "print('Bin size: 100M, Cores: 1')\n",
    "print('Total Time (hours):', r2t100m1c_total/60/60)\n",
    "print('\\nMetrics (seconds):')\n",
    "print(r2t100m1c.bin_time.describe())\n",
    "print('Coeff of variation', scipy.stats.variation(r2t100m1c.bin_time))"
   ]
  },
  {
   "cell_type": "code",
   "execution_count": 57,
   "metadata": {},
   "outputs": [
    {
     "name": "stdout",
     "output_type": "stream",
     "text": [
      "Bin size: 1B, Cores: 1\n",
      "Total Time (hours): 0.46665220220883613\n",
      "\n",
      "Metrics (seconds):\n",
      "count       1.000000\n",
      "mean     1677.739404\n",
      "std              NaN\n",
      "min      1677.739404\n",
      "25%      1677.739404\n",
      "50%      1677.739404\n",
      "75%      1677.739404\n",
      "max      1677.739404\n",
      "Name: bin_time, dtype: float64\n",
      "Coeff of variation 0.0\n"
     ]
    }
   ],
   "source": [
    "#Bin size 1B, 1 core\n",
    "r2t1b1c = pd.read_csv('../data/basic_parallel_timings/RNA2/runRNA2.cores1.binSize1000000000.runtime.txt', \n",
    "                    sep='\\t', header=None, names=['Chromosome & Range', 'start_position', 'bin_time'])\n",
    "\n",
    "#grab total time for run\n",
    "r2t1b1c_total = r2t1b1c.iloc[[-1]].bin_time.values[0]\n",
    "r2_totals_1c.append(r2t1b1c_total)\n",
    "#drop last two rows, which are run times\n",
    "r2t1b1c.drop(r2t1b1c.tail(2).index,inplace=True)\n",
    "#simple metrics\n",
    "print('Bin size: 1B, Cores: 1')\n",
    "print('Total Time (hours):', r2t1b1c_total/60/60)\n",
    "print('\\nMetrics (seconds):')\n",
    "print(r2t1b1c.bin_time.describe())\n",
    "print('Coeff of variation', scipy.stats.variation(r2t1b1c.bin_time))"
   ]
  },
  {
   "cell_type": "markdown",
   "metadata": {},
   "source": [
    "# RNA Plots"
   ]
  },
  {
   "cell_type": "code",
   "execution_count": 58,
   "metadata": {},
   "outputs": [
    {
     "data": {
      "text/plain": [
       "([96029.49779582019,\n",
       "  8978.20754814148,\n",
       "  2242.1782727241502,\n",
       "  902.0379772186279,\n",
       "  906.384456157684,\n",
       "  960.4609622955321],\n",
       " [2242.1782727241502,\n",
       "  755.445142269135,\n",
       "  328.741983175278,\n",
       "  189.860725879669,\n",
       "  87.8805923461914,\n",
       "  75.9006280899048],\n",
       " [3843.0859045982397,\n",
       "  1990.2724032402,\n",
       "  1604.6511070728302,\n",
       "  1428.1940603256198,\n",
       "  1679.94792795181],\n",
       " [1990.2724032402,\n",
       "  962.783029556274,\n",
       "  551.002240896225,\n",
       "  279.53931212425204,\n",
       "  139.407167673111,\n",
       "  102.25775265693701])"
      ]
     },
     "execution_count": 58,
     "metadata": {},
     "output_type": "execute_result"
    }
   ],
   "source": [
    "r1_totals_1c, r1_totals_1m, r2_totals_1c, r2_totals_1m"
   ]
  },
  {
   "cell_type": "code",
   "execution_count": 61,
   "metadata": {
    "scrolled": false
   },
   "outputs": [
    {
     "data": {
      "image/png": "[encoded data removed]",
      "text/plain": [
       "<Figure size 748.8x514.8 with 1 Axes>"
      ]
     },
     "metadata": {},
     "output_type": "display_data"
    }
   ],
   "source": [
    "#plot time vs. bin size for 1 core execution\n",
    "plt.plot(bin_sizes, r1_totals_1c, '-o', c = '#3182bd', label='RNA Sample 1')\n",
    "plt.plot(r2_bin_sizes, r2_totals_1c, '-o', c = '#9ecae1', label = 'RNA Sample 2')\n",
    "# plt.xscale('log')\n",
    "plt.title('RNA: One Chromosome Execution Time vs. Bin Size (1 Core)')\n",
    "plt.xlabel('Bin Size (log)')\n",
    "plt.ylabel('One Chromosome Time (seconds)')\n",
    "plt.legend(loc = 'lower left')\n",
    "plt.xscale('log')\n",
    "plt.axvline(1000000, c = 'k', linestyle='dashed')\n",
    "sns.despine();"
   ]
  },
  {
   "cell_type": "code",
   "execution_count": 72,
   "metadata": {
    "scrolled": false
   },
   "outputs": [
    {
     "data": {
      "image/png": "[encoded data removed]",
      "text/plain": [
       "<Figure size 748.8x514.8 with 1 Axes>"
      ]
     },
     "metadata": {},
     "output_type": "display_data"
    }
   ],
   "source": [
    "#plot time vs. cores for bin size = 1000000\n",
    "plt.plot(cores_1m, r1_totals_1m, '-o', c = '#3182bd', label='RNA Sample 1')\n",
    "plt.plot(cores_1m, r2_totals_1m, '-o', c = '#9ecae1', label='RNA Sample 2')\n",
    "# plt.xscale('log')\n",
    "plt.title('RNA: One Chromosome Simple Parallel Time vs. Cores (Bin size = 1 Million)')\n",
    "plt.xlabel('Cores')\n",
    "plt.ylabel('One Chromosome Time (seconds)')\n",
    "plt.legend(loc = 'lower left')\n",
    "plt.xticks([2, 4, 6, 8, 10, 12, 14, 16, 18, 20])\n",
    "sns.despine();"
   ]
  },
  {
   "cell_type": "code",
   "execution_count": 68,
   "metadata": {},
   "outputs": [
    {
     "data": {
      "image/png": "[encoded data removed]",
      "text/plain": [
       "<Figure size 748.8x514.8 with 1 Axes>"
      ]
     },
     "metadata": {},
     "output_type": "display_data"
    }
   ],
   "source": [
    "#calculate speedup\n",
    "r1_speedup = [r1_totals_1m[0]/p for p in r1_totals_1m]\n",
    "r2_speedup = [r2_totals_1m[0]/p for p in r2_totals_1m]\n",
    "\n",
    "# add diagonal line\n",
    "x = [0, 24]\n",
    "y = [0, 24]\n",
    "plt.plot(x, y, '--')\n",
    "\n",
    "#plot time vs. cores for bin size = 1000000\n",
    "plt.plot(cores_1m, r1_speedup, '-o', c = '#3182bd', label='RNA Sample 1')\n",
    "plt.plot(cores_1m, r2_speedup, '-o', c = '#9ecae1', label='RNA Sample 2')\n",
    "plt.title('RNA: One Chromosome Binning Speedup vs. Cores (Bin size = 1 Million)')\n",
    "plt.xlabel('Cores')\n",
    "plt.ylabel('Speedup')\n",
    "plt.legend(loc = 'upper left')\n",
    "plt.xticks([0, 2, 4, 6, 8, 10, 12, 14, 16, 18, 20])\n",
    "plt.xlim(0,22)\n",
    "plt.ylim(0,30)\n",
    "sns.despine();"
   ]
  },
  {
   "cell_type": "code",
   "execution_count": 67,
   "metadata": {},
   "outputs": [
    {
     "data": {
      "text/plain": [
       "([1.0,\n",
       "  2.9680226230448796,\n",
       "  6.820480460290556,\n",
       "  11.809594966708442,\n",
       "  25.513918521298205,\n",
       "  29.54097125610443],\n",
       " [2242.1782727241502,\n",
       "  755.445142269135,\n",
       "  328.741983175278,\n",
       "  189.860725879669,\n",
       "  87.8805923461914,\n",
       "  75.9006280899048])"
      ]
     },
     "execution_count": 67,
     "metadata": {},
     "output_type": "execute_result"
    }
   ],
   "source": [
    "r1_speedup, r1_totals_1m"
   ]
  },
  {
   "cell_type": "code",
   "execution_count": 30,
   "metadata": {},
   "outputs": [
    {
     "data": {
      "text/html": [
       "<div>\n",
       "<style scoped>\n",
       "    .dataframe tbody tr th:only-of-type {\n",
       "        vertical-align: middle;\n",
       "    }\n",
       "\n",
       "    .dataframe tbody tr th {\n",
       "        vertical-align: top;\n",
       "    }\n",
       "\n",
       "    .dataframe thead th {\n",
       "        text-align: right;\n",
       "    }\n",
       "</style>\n",
       "<table border=\"1\" class=\"dataframe\">\n",
       "  <thead>\n",
       "    <tr style=\"text-align: right;\">\n",
       "      <th></th>\n",
       "      <th>1</th>\n",
       "      <th>2</th>\n",
       "      <th>4</th>\n",
       "      <th>8</th>\n",
       "      <th>16</th>\n",
       "      <th>20</th>\n",
       "    </tr>\n",
       "  </thead>\n",
       "  <tbody>\n",
       "    <tr>\n",
       "      <th>0</th>\n",
       "      <td>28.350008</td>\n",
       "      <td>20.018442</td>\n",
       "      <td>5.537371</td>\n",
       "      <td>2.720066</td>\n",
       "      <td>2.402438</td>\n",
       "      <td>2.205581</td>\n",
       "    </tr>\n",
       "    <tr>\n",
       "      <th>1</th>\n",
       "      <td>19.916844</td>\n",
       "      <td>6.509547</td>\n",
       "      <td>6.046755</td>\n",
       "      <td>2.439285</td>\n",
       "      <td>2.109918</td>\n",
       "      <td>2.339770</td>\n",
       "    </tr>\n",
       "    <tr>\n",
       "      <th>2</th>\n",
       "      <td>6.550565</td>\n",
       "      <td>5.842115</td>\n",
       "      <td>3.771271</td>\n",
       "      <td>4.578898</td>\n",
       "      <td>2.892303</td>\n",
       "      <td>2.828971</td>\n",
       "    </tr>\n",
       "    <tr>\n",
       "      <th>3</th>\n",
       "      <td>7.531111</td>\n",
       "      <td>35.360636</td>\n",
       "      <td>2.105254</td>\n",
       "      <td>5.916909</td>\n",
       "      <td>3.523759</td>\n",
       "      <td>2.826041</td>\n",
       "    </tr>\n",
       "    <tr>\n",
       "      <th>4</th>\n",
       "      <td>7.636467</td>\n",
       "      <td>2.347018</td>\n",
       "      <td>2.376431</td>\n",
       "      <td>6.697375</td>\n",
       "      <td>1.757951</td>\n",
       "      <td>4.429962</td>\n",
       "    </tr>\n",
       "  </tbody>\n",
       "</table>\n",
       "</div>"
      ],
      "text/plain": [
       "           1          2         4         8        16        20\n",
       "0  28.350008  20.018442  5.537371  2.720066  2.402438  2.205581\n",
       "1  19.916844   6.509547  6.046755  2.439285  2.109918  2.339770\n",
       "2   6.550565   5.842115  3.771271  4.578898  2.892303  2.828971\n",
       "3   7.531111  35.360636  2.105254  5.916909  3.523759  2.826041\n",
       "4   7.636467   2.347018  2.376431  6.697375  1.757951  4.429962"
      ]
     },
     "execution_count": 30,
     "metadata": {},
     "output_type": "execute_result"
    }
   ],
   "source": [
    "#side-by-side boxplots of bin time\n",
    "df1m = pd.DataFrame(\n",
    "    {'1': t1m1c.bin_time,\n",
    "     '2': t1m2c.bin_time,\n",
    "     '4': t1m4c.bin_time,\n",
    "     '8': t1m8c.bin_time,\n",
    "     '16': t1m16c.bin_time,\n",
    "     '20': t1m20c.bin_time\n",
    "    })\n",
    "df1m = df1m[['1','2','4','8','16','20']]\n",
    "df1m.head()"
   ]
  },
  {
   "cell_type": "code",
   "execution_count": 31,
   "metadata": {},
   "outputs": [
    {
     "data": {
      "text/plain": [
       "Text(0.5,1,'RNA 1 Run Times vs. Cores for Bin Size 1 Million')"
      ]
     },
     "execution_count": 31,
     "metadata": {},
     "output_type": "execute_result"
    },
    {
     "data": {
      "image/png": "[encoded data removed]",
      "text/plain": [
       "<Figure size 748.8x514.8 with 1 Axes>"
      ]
     },
     "metadata": {},
     "output_type": "display_data"
    }
   ],
   "source": [
    "sns.boxplot(df1m)\n",
    "plt.xlabel('Cores')\n",
    "plt.ylabel('Run Time per Bin (seconds)')\n",
    "plt.title('RNA 1 Run Times vs. Cores for Bin Size 1 Million')"
   ]
  },
  {
   "cell_type": "code",
   "execution_count": null,
   "metadata": {
    "collapsed": true
   },
   "outputs": [],
   "source": []
  }
 ],
 "metadata": {
  "kernelspec": {
   "display_name": "Python 3",
   "language": "python",
   "name": "python3"
  },
  "language_info": {
   "codemirror_mode": {
    "name": "ipython",
    "version": 3
   },
   "file_extension": ".py",
   "mimetype": "text/x-python",
   "name": "python",
   "nbconvert_exporter": "python",
   "pygments_lexer": "ipython3",
   "version": "3.6.4"
  }
 },
 "nbformat": 4,
 "nbformat_minor": 2
}
